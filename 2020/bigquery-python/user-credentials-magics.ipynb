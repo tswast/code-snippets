{
 "cells": [
  {
   "cell_type": "code",
   "execution_count": null,
   "metadata": {},
   "outputs": [],
   "source": [
    "# Install the google-cloud-bigquery and pydata-google-auth packages\n",
    "# to use this code snippet.\n",
    "import google.cloud.bigquery\n",
    "import google.cloud.bigquery.magics\n",
    "import pydata_google_auth"
   ]
  },
  {
   "cell_type": "code",
   "execution_count": null,
   "metadata": {},
   "outputs": [],
   "source": [
    "# In the cell output, open the link to authenticate with your\n",
    "# Google credentials.\n",
    "credentials = pydata_google_auth.get_user_credentials([\"https://www.googleapis.com/auth/cloud-platform\"])\n",
    "project_id = \"my-project-id\""
   ]
  },
  {
   "cell_type": "code",
   "execution_count": null,
   "metadata": {},
   "outputs": [],
   "source": [
    "# Configure the magics to use your credentials and project.\n",
    "google.cloud.bigquery.magics.context.project = project_id\n",
    "google.cloud.bigquery.magics.context.credentials = credentials"
   ]
  },
  {
   "cell_type": "code",
   "execution_count": null,
   "metadata": {},
   "outputs": [],
   "source": [
    "%load_ext google.cloud.bigquery"
   ]
  },
  {
   "cell_type": "code",
   "execution_count": null,
   "metadata": {},
   "outputs": [],
   "source": [
    "%%bigquery\n",
    "SELECT name, SUM(number) as count\n",
    "FROM `bigquery-public-data.usa_names.usa_1910_current`\n",
    "GROUP BY name\n",
    "ORDER BY count DESC\n",
    "LIMIT 3"
   ]
  },
  {
   "cell_type": "code",
   "execution_count": null,
   "metadata": {},
   "outputs": [],
   "source": [
    "# Configure a BigQuery client to use your credentials and project.\n",
    "bqclient = google.cloud.bigquery.Client()"
   ]
  },
  {
   "cell_type": "code",
   "execution_count": null,
   "metadata": {},
   "outputs": [],
   "source": [
    "query_job = bqclient.query(\n",
    "\"\"\"SELECT name, SUM(number) as count\n",
    "FROM `bigquery-public-data.usa_names.usa_1910_current`\n",
    "GROUP BY name\n",
    "ORDER BY count DESC\n",
    "LIMIT 3\n",
    "\"\"\")\n",
    "query_job.result()"
   ]
  },
  {
   "cell_type": "code",
   "execution_count": null,
   "metadata": {},
   "outputs": [],
   "source": [
    "query_job.to_dataframe()"
   ]
  },
  {
   "cell_type": "code",
   "execution_count": null,
   "metadata": {},
   "outputs": [],
   "source": []
  }
 ],
 "metadata": {
  "kernelspec": {
   "display_name": "Python 3 (ipykernel)",
   "language": "python",
   "name": "python3"
  },
  "language_info": {
   "codemirror_mode": {
    "name": "ipython",
    "version": 3
   },
   "file_extension": ".py",
   "mimetype": "text/x-python",
   "name": "python",
   "nbconvert_exporter": "python",
   "pygments_lexer": "ipython3",
   "version": "3.9.5"
  }
 },
 "nbformat": 4,
 "nbformat_minor": 4
}
