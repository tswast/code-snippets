{
  "nbformat": 4,
  "nbformat_minor": 0,
  "metadata": {
    "colab": {
      "provenance": [],
      "authorship_tag": "ABX9TyPSw2ZlmPIHjy5J5/9sJSr2",
      "include_colab_link": true
    },
    "kernelspec": {
      "name": "python3",
      "display_name": "Python 3"
    },
    "language_info": {
      "name": "python"
    }
  },
  "cells": [
    {
      "cell_type": "markdown",
      "metadata": {
        "id": "view-in-github",
        "colab_type": "text"
      },
      "source": [
        "<a href=\"https://colab.research.google.com/github/tswast/code-snippets/blob/main/2025/overcastdata_freeze_dates.ipynb\" target=\"_parent\"><img src=\"https://colab.research.google.com/assets/colab-badge.svg\" alt=\"Open In Colab\"/></a>"
      ]
    },
    {
      "cell_type": "markdown",
      "source": [
        "# How to calculate the last frost date for a location?\n",
        "\n",
        "Welcome to this companion notebook to the [OvercastData.com \"When should you plant? Using mathematics to predict frost and save your garden\"](https://www.overcastdata.com/en/blog/when-to-plant-mathematics-of-frost-dates) blog post. If you haven't read that first, I recommend it, as it provides important context for these simulations and probability calculations.\n",
        "\n",
        "While these simulations are inpired by real-world NOAA Global Surface Summary of the Day (GSOD) data, this notebook focuses on simplified models. No access to cloud resources are required to run this code.\n",
        "\n",
        "<table align=\"left\">\n",
        "  <td>\n",
        "    <a href=\"https://colab.research.google.com/github/tswast/code-snippets/blob/main/2025/overcastdata_freeze_dates.ipynb\">\n",
        "      <img src=\"https://cloud.google.com/ml-engine/images/colab-logo-32px.png\" alt=\"Colab logo\"> Run in Colab\n",
        "    </a>\n",
        "  </td>\n",
        "</table>"
      ],
      "metadata": {
        "id": "coRWzIJGN-g6"
      }
    },
    {
      "cell_type": "markdown",
      "source": [
        "We use pandas and numpy to efficiently calculate and analyze these simulated seasons."
      ],
      "metadata": {
        "id": "wYIGdXcVf3Cj"
      }
    },
    {
      "cell_type": "code",
      "execution_count": 1,
      "metadata": {
        "id": "Cn_ZgfjwlXvy"
      },
      "outputs": [],
      "source": [
        "import random\n",
        "\n",
        "import numpy as np\n",
        "import pandas as pd\n",
        "import seaborn as sns\n",
        "\n",
        "rng = np.random.default_rng()"
      ]
    },
    {
      "cell_type": "markdown",
      "source": [
        "## Calculating the last freeze date\n"
      ],
      "metadata": {
        "id": "0ECVXJqLgAWQ"
      }
    },
    {
      "cell_type": "markdown",
      "source": [
        "## Real temperature data\n",
        "\n",
        "\n",
        "The next cell contains weather data at Chicago Midway covering the winter starting in 2023 and ending in 2024. If you'd like to try this exercise with another location, you can modify this query and run it for free using the [BigQuery sandbox](https://cloud.google.com/bigquery/docs/sandbox), no credit card required.\n",
        "\n",
        "```sql\n",
        "SELECT\n",
        "`min` AS low_temp_f,\n",
        "`date`,\n",
        "FROM bigquery-public-data.noaa_gsod.gsod2023\n",
        "WHERE stn = '725340' AND wban = '14819'  -- chicago midway\n",
        "-- warmest day on average\n",
        "AND `date` >= CAST('2023-07-12' AS DATE)\n",
        "UNION ALL\n",
        "(\n",
        "SELECT\n",
        "`min` AS low_temp_f,\n",
        "`date`,\n",
        "FROM bigquery-public-data.noaa_gsod.gsod2024\n",
        "WHERE stn = '725340' AND wban = '14819'  -- chicago midway\n",
        "-- warmest day on average\n",
        "AND `date` < CAST('2024-07-12' AS DATE)\n",
        ")\n",
        "ORDER BY `date` ASC\n",
        "```"
      ],
      "metadata": {
        "id": "0TVa-jPPnOkN"
      }
    },
    {
      "cell_type": "code",
      "source": [
        "midway_lows = pd.DataFrame({\n",
        "    \"low_temp_f\": [64.0, 64.0, 69.1, 69.1, 66.9, 66.0, 62.1, 62.1, 72.0, 69.1, 64.0, 64.9, 69.1, 69.1, 75.9, 75.0, 72.0, 70.0, 66.9, 64.0, 69.1, 69.1, 66.0, 72.0, 72.0, 66.0, 69.1, 64.0, 66.0, 64.9, 71.1, 72.0, 66.9, 66.2, 63.0, 57.9, 64.9, 57.9, 63.0, 72.0, 72.0, 70.0, 75.0, 81.0, 71.1, 69.1, 64.9, 60.1, 63.0, 59.0, 54.0, 60.1, 64.0, 68.0, 71.1, 75.9, 69.1, 66.0, 60.1, 55.9, 55.0, 60.1, 55.9, 54.0, 52.0, 54.0, 60.1, 57.9, 53.1, 57.9, 61.0, 66.0, 64.9, 64.0, 59.0, 63.0, 64.0, 63.0, 64.0, 57.0, 59.0, 63.0, 63.0, 64.9, 71.1, 66.2, 48.9, 45.0, 45.0, 43.0, 39.9, 41.0, 53.1, 55.0, 51.8, 46.0, 48.0, 39.9, 46.0, 55.0, 52.0, 45.0, 42.1, 45.0, 57.9, 60.1, 64.0, 57.0, 39.9, 44.1, 33.1, 28.9, 27.0, 34.0, 44.1, 43.0, 36.0, 54.0, 46.0, 48.0, 42.1, 37.0, 30.9, 42.1, 39.0, 37.0, 43.0, 46.9, 44.1, 32.0, 36.0, 44.1, 42.1, 33.1, 34.0, 28.9, 28.9, 32.0, 21.9, 16.0, 19.0, 30.9, 44.1, 41.0, 39.0, 34.0, 33.8, 32.0, 35.6, 45.0, 43.0, 33.1, 28.9, 33.1, 23.0, 30.9, 36.0, 42.1, 39.0, 27.0, 18.0, 30.9, 35.1, 44.1, 44.6, 46.9, 51.1, 37.9, 30.9, 37.9, 39.0, 28.9, 32.0, 30.9, 28.0, 32.0, 28.0, 28.0, 30.9, 33.1, 32.0, 33.8, 30.9, 28.9, 28.0, 12.0, -9.0, -9.0, -5.1, 3.0, 19.0, 12.0, 5.0, 1.9, 19.9, 33.8, 33.8, 37.9, 39.0, 37.4, 37.0, 30.9, 36.0, 37.9, 36.0, 35.1, 30.9, 32.0, 33.1, 34.0, 30.0, 44.1, 43.0, 33.1, 30.0, 25.0, 30.0, 27.0, 39.0, 28.4, 14.0, 23.0, 26.1, 32.0, 46.0, 48.0, 37.9, 24.1, 32.0, 42.1, 55.9, 23.0, 19.9, 32.0, 37.0, 45.0, 54.0, 39.9, 39.2, 39.0, 44.1, 39.9, 30.9, 33.1, 48.0, 48.0, 45.0, 37.9, 39.9, 35.1, 26.1, 30.0, 34.0, 28.0, 30.9, 32.0, 33.1, 45.0, 39.9, 30.0, 30.9, 37.0, 44.1, 39.2, 42.1, 39.9, 35.1, 37.0, 37.0, 33.1, 39.9, 48.0, 52.0, 44.1, 50.0, 50.0, 43.0, 61.0, 50.0, 53.1, 59.0, 46.9, 43.0, 36.0, 35.1, 42.1, 57.0, 39.9, 34.0, 45.0, 57.0, 62.1, 61.0, 50.0, 64.9, 57.0, 59.0, 51.1, 54.0, 50.0, 60.1, 54.0, 53.1, 48.0, 52.0, 51.1, 64.0, 53.1, 54.0, 52.0, 60.1, 61.0, 68.0, 63.0, 63.0, 64.0, 57.0, 66.0, 59.0, 59.0, 59.0, 57.0, 55.9, 48.9, 54.0, 61.0, 60.1, 61.0, 73.0, 69.1, 64.9, 60.1, 59.0, 55.0, 55.0, 50.0, 68.0, 73.0, 68.0, 62.1, 71.1, 79.0, 79.0, 78.1, 71.1, 66.9, 73.9, 72.0, 66.9, 73.0, 75.0, 63.0, 64.9, 73.0, 62.1, 60.1, 66.9, 75.0, 73.9, 70.0, 64.9, 66.9, 71.1, 73.0, 66.9, 69.1],\n",
        "    \"date\": pd.to_datetime(['2023-07-12', '2023-07-13', '2023-07-14', '2023-07-15', '2023-07-16', '2023-07-17', '2023-07-18', '2023-07-19', '2023-07-20', '2023-07-21', '2023-07-22', '2023-07-23', '2023-07-24', '2023-07-25', '2023-07-26', '2023-07-27', '2023-07-28', '2023-07-29', '2023-07-30', '2023-07-31', '2023-08-01', '2023-08-02', '2023-08-03', '2023-08-04', '2023-08-05', '2023-08-06', '2023-08-07', '2023-08-08', '2023-08-09', '2023-08-10', '2023-08-11', '2023-08-12', '2023-08-13', '2023-08-14', '2023-08-15', '2023-08-16', '2023-08-17', '2023-08-18', '2023-08-19', '2023-08-20', '2023-08-21', '2023-08-22', '2023-08-23', '2023-08-24', '2023-08-25', '2023-08-26', '2023-08-27', '2023-08-28', '2023-08-29', '2023-08-30', '2023-08-31', '2023-09-01', '2023-09-02', '2023-09-03', '2023-09-04', '2023-09-05', '2023-09-06', '2023-09-07', '2023-09-08', '2023-09-09', '2023-09-10', '2023-09-11', '2023-09-12', '2023-09-13', '2023-09-14', '2023-09-15', '2023-09-16', '2023-09-17', '2023-09-18', '2023-09-19', '2023-09-20', '2023-09-21', '2023-09-22', '2023-09-23', '2023-09-24', '2023-09-25', '2023-09-26', '2023-09-27', '2023-09-28', '2023-09-29', '2023-09-30', '2023-10-01', '2023-10-02', '2023-10-03', '2023-10-04', '2023-10-05', '2023-10-06', '2023-10-07', '2023-10-08', '2023-10-09', '2023-10-10', '2023-10-11', '2023-10-12', '2023-10-13', '2023-10-14', '2023-10-15', '2023-10-16', '2023-10-17', '2023-10-18', '2023-10-19', '2023-10-20', '2023-10-21', '2023-10-22', '2023-10-23', '2023-10-24', '2023-10-25', '2023-10-26', '2023-10-27', '2023-10-28', '2023-10-29', '2023-10-30', '2023-10-31', '2023-11-01', '2023-11-02', '2023-11-03', '2023-11-04', '2023-11-05', '2023-11-06', '2023-11-07', '2023-11-08', '2023-11-09', '2023-11-10', '2023-11-11', '2023-11-12', '2023-11-13', '2023-11-14', '2023-11-15', '2023-11-16', '2023-11-17', '2023-11-18', '2023-11-19', '2023-11-20', '2023-11-21', '2023-11-22', '2023-11-23', '2023-11-24', '2023-11-25', '2023-11-26', '2023-11-27', '2023-11-28', '2023-11-29', '2023-11-30', '2023-12-01', '2023-12-02', '2023-12-03', '2023-12-04', '2023-12-05', '2023-12-06', '2023-12-07', '2023-12-08', '2023-12-09', '2023-12-10', '2023-12-11', '2023-12-12', '2023-12-13', '2023-12-14', '2023-12-15', '2023-12-16', '2023-12-17', '2023-12-18', '2023-12-19', '2023-12-20', '2023-12-21', '2023-12-22', '2023-12-23', '2023-12-24', '2023-12-25', '2023-12-26', '2023-12-27', '2023-12-28', '2023-12-29', '2023-12-30', '2023-12-31', '2024-01-01', '2024-01-02', '2024-01-03', '2024-01-04', '2024-01-05', '2024-01-06', '2024-01-07', '2024-01-08', '2024-01-09', '2024-01-10', '2024-01-11', '2024-01-12', '2024-01-13', '2024-01-14', '2024-01-15', '2024-01-16', '2024-01-17', '2024-01-18', '2024-01-19', '2024-01-20', '2024-01-21', '2024-01-22', '2024-01-23', '2024-01-24', '2024-01-25', '2024-01-26', '2024-01-27', '2024-01-28', '2024-01-29', '2024-01-30', '2024-01-31', '2024-02-01', '2024-02-02', '2024-02-03', '2024-02-04', '2024-02-05', '2024-02-06', '2024-02-07', '2024-02-08', '2024-02-09', '2024-02-10', '2024-02-11', '2024-02-12', '2024-02-13', '2024-02-14', '2024-02-15', '2024-02-16', '2024-02-17', '2024-02-18', '2024-02-19', '2024-02-20', '2024-02-21', '2024-02-22', '2024-02-23', '2024-02-24', '2024-02-25', '2024-02-26', '2024-02-27', '2024-02-28', '2024-02-29', '2024-03-01', '2024-03-02', '2024-03-03', '2024-03-04', '2024-03-05', '2024-03-06', '2024-03-07', '2024-03-08', '2024-03-09', '2024-03-10', '2024-03-11', '2024-03-12', '2024-03-13', '2024-03-14', '2024-03-15', '2024-03-16', '2024-03-17', '2024-03-18', '2024-03-19', '2024-03-20', '2024-03-21', '2024-03-22', '2024-03-23', '2024-03-24', '2024-03-25', '2024-03-26', '2024-03-27', '2024-03-28', '2024-03-29', '2024-03-30', '2024-03-31', '2024-04-01', '2024-04-02', '2024-04-03', '2024-04-04', '2024-04-05', '2024-04-06', '2024-04-07', '2024-04-08', '2024-04-09', '2024-04-10', '2024-04-11', '2024-04-12', '2024-04-13', '2024-04-14', '2024-04-15', '2024-04-16', '2024-04-17', '2024-04-18', '2024-04-19', '2024-04-20', '2024-04-21', '2024-04-22', '2024-04-23', '2024-04-24', '2024-04-25', '2024-04-26', '2024-04-27', '2024-04-28', '2024-04-29', '2024-04-30', '2024-05-01', '2024-05-02', '2024-05-03', '2024-05-04', '2024-05-05', '2024-05-06', '2024-05-07', '2024-05-08', '2024-05-09', '2024-05-10', '2024-05-11', '2024-05-12', '2024-05-13', '2024-05-14', '2024-05-15', '2024-05-16', '2024-05-17', '2024-05-18', '2024-05-19', '2024-05-20', '2024-05-21', '2024-05-22', '2024-05-23', '2024-05-24', '2024-05-25', '2024-05-26', '2024-05-27', '2024-05-28', '2024-05-29', '2024-05-30', '2024-05-31', '2024-06-01', '2024-06-02', '2024-06-03', '2024-06-04', '2024-06-05', '2024-06-06', '2024-06-07', '2024-06-08', '2024-06-09', '2024-06-10', '2024-06-11', '2024-06-12', '2024-06-13', '2024-06-14', '2024-06-15', '2024-06-16', '2024-06-17', '2024-06-18', '2024-06-19', '2024-06-20', '2024-06-21', '2024-06-22', '2024-06-23', '2024-06-24', '2024-06-25', '2024-06-26', '2024-06-27', '2024-06-28', '2024-06-29', '2024-06-30', '2024-07-01', '2024-07-02', '2024-07-03', '2024-07-04', '2024-07-05', '2024-07-06', '2024-07-07', '2024-07-08', '2024-07-09', '2024-07-10', '2024-07-11']\n",
        "    ),\n",
        "})\n",
        "midway_lows.head()"
      ],
      "metadata": {
        "colab": {
          "base_uri": "https://localhost:8080/",
          "height": 206
        },
        "id": "GtYz979Aq8Gh",
        "outputId": "8c1f8c7d-4ba3-470c-dc23-852ff57bfd2a"
      },
      "execution_count": 2,
      "outputs": [
        {
          "output_type": "execute_result",
          "data": {
            "text/plain": [
              "   low_temp_f       date\n",
              "0        64.0 2023-07-12\n",
              "1        64.0 2023-07-13\n",
              "2        69.1 2023-07-14\n",
              "3        69.1 2023-07-15\n",
              "4        66.9 2023-07-16"
            ],
            "text/html": [
              "\n",
              "  <div id=\"df-c662a3c9-a71c-4b71-9be1-aff0ebb74cd2\" class=\"colab-df-container\">\n",
              "    <div>\n",
              "<style scoped>\n",
              "    .dataframe tbody tr th:only-of-type {\n",
              "        vertical-align: middle;\n",
              "    }\n",
              "\n",
              "    .dataframe tbody tr th {\n",
              "        vertical-align: top;\n",
              "    }\n",
              "\n",
              "    .dataframe thead th {\n",
              "        text-align: right;\n",
              "    }\n",
              "</style>\n",
              "<table border=\"1\" class=\"dataframe\">\n",
              "  <thead>\n",
              "    <tr style=\"text-align: right;\">\n",
              "      <th></th>\n",
              "      <th>low_temp_f</th>\n",
              "      <th>date</th>\n",
              "    </tr>\n",
              "  </thead>\n",
              "  <tbody>\n",
              "    <tr>\n",
              "      <th>0</th>\n",
              "      <td>64.0</td>\n",
              "      <td>2023-07-12</td>\n",
              "    </tr>\n",
              "    <tr>\n",
              "      <th>1</th>\n",
              "      <td>64.0</td>\n",
              "      <td>2023-07-13</td>\n",
              "    </tr>\n",
              "    <tr>\n",
              "      <th>2</th>\n",
              "      <td>69.1</td>\n",
              "      <td>2023-07-14</td>\n",
              "    </tr>\n",
              "    <tr>\n",
              "      <th>3</th>\n",
              "      <td>69.1</td>\n",
              "      <td>2023-07-15</td>\n",
              "    </tr>\n",
              "    <tr>\n",
              "      <th>4</th>\n",
              "      <td>66.9</td>\n",
              "      <td>2023-07-16</td>\n",
              "    </tr>\n",
              "  </tbody>\n",
              "</table>\n",
              "</div>\n",
              "    <div class=\"colab-df-buttons\">\n",
              "\n",
              "  <div class=\"colab-df-container\">\n",
              "    <button class=\"colab-df-convert\" onclick=\"convertToInteractive('df-c662a3c9-a71c-4b71-9be1-aff0ebb74cd2')\"\n",
              "            title=\"Convert this dataframe to an interactive table.\"\n",
              "            style=\"display:none;\">\n",
              "\n",
              "  <svg xmlns=\"http://www.w3.org/2000/svg\" height=\"24px\" viewBox=\"0 -960 960 960\">\n",
              "    <path d=\"M120-120v-720h720v720H120Zm60-500h600v-160H180v160Zm220 220h160v-160H400v160Zm0 220h160v-160H400v160ZM180-400h160v-160H180v160Zm440 0h160v-160H620v160ZM180-180h160v-160H180v160Zm440 0h160v-160H620v160Z\"/>\n",
              "  </svg>\n",
              "    </button>\n",
              "\n",
              "  <style>\n",
              "    .colab-df-container {\n",
              "      display:flex;\n",
              "      gap: 12px;\n",
              "    }\n",
              "\n",
              "    .colab-df-convert {\n",
              "      background-color: #E8F0FE;\n",
              "      border: none;\n",
              "      border-radius: 50%;\n",
              "      cursor: pointer;\n",
              "      display: none;\n",
              "      fill: #1967D2;\n",
              "      height: 32px;\n",
              "      padding: 0 0 0 0;\n",
              "      width: 32px;\n",
              "    }\n",
              "\n",
              "    .colab-df-convert:hover {\n",
              "      background-color: #E2EBFA;\n",
              "      box-shadow: 0px 1px 2px rgba(60, 64, 67, 0.3), 0px 1px 3px 1px rgba(60, 64, 67, 0.15);\n",
              "      fill: #174EA6;\n",
              "    }\n",
              "\n",
              "    .colab-df-buttons div {\n",
              "      margin-bottom: 4px;\n",
              "    }\n",
              "\n",
              "    [theme=dark] .colab-df-convert {\n",
              "      background-color: #3B4455;\n",
              "      fill: #D2E3FC;\n",
              "    }\n",
              "\n",
              "    [theme=dark] .colab-df-convert:hover {\n",
              "      background-color: #434B5C;\n",
              "      box-shadow: 0px 1px 3px 1px rgba(0, 0, 0, 0.15);\n",
              "      filter: drop-shadow(0px 1px 2px rgba(0, 0, 0, 0.3));\n",
              "      fill: #FFFFFF;\n",
              "    }\n",
              "  </style>\n",
              "\n",
              "    <script>\n",
              "      const buttonEl =\n",
              "        document.querySelector('#df-c662a3c9-a71c-4b71-9be1-aff0ebb74cd2 button.colab-df-convert');\n",
              "      buttonEl.style.display =\n",
              "        google.colab.kernel.accessAllowed ? 'block' : 'none';\n",
              "\n",
              "      async function convertToInteractive(key) {\n",
              "        const element = document.querySelector('#df-c662a3c9-a71c-4b71-9be1-aff0ebb74cd2');\n",
              "        const dataTable =\n",
              "          await google.colab.kernel.invokeFunction('convertToInteractive',\n",
              "                                                    [key], {});\n",
              "        if (!dataTable) return;\n",
              "\n",
              "        const docLinkHtml = 'Like what you see? Visit the ' +\n",
              "          '<a target=\"_blank\" href=https://colab.research.google.com/notebooks/data_table.ipynb>data table notebook</a>'\n",
              "          + ' to learn more about interactive tables.';\n",
              "        element.innerHTML = '';\n",
              "        dataTable['output_type'] = 'display_data';\n",
              "        await google.colab.output.renderOutput(dataTable, element);\n",
              "        const docLink = document.createElement('div');\n",
              "        docLink.innerHTML = docLinkHtml;\n",
              "        element.appendChild(docLink);\n",
              "      }\n",
              "    </script>\n",
              "  </div>\n",
              "\n",
              "\n",
              "<div id=\"df-97c1acad-d662-4578-abf9-85d5502e6e09\">\n",
              "  <button class=\"colab-df-quickchart\" onclick=\"quickchart('df-97c1acad-d662-4578-abf9-85d5502e6e09')\"\n",
              "            title=\"Suggest charts\"\n",
              "            style=\"display:none;\">\n",
              "\n",
              "<svg xmlns=\"http://www.w3.org/2000/svg\" height=\"24px\"viewBox=\"0 0 24 24\"\n",
              "     width=\"24px\">\n",
              "    <g>\n",
              "        <path d=\"M19 3H5c-1.1 0-2 .9-2 2v14c0 1.1.9 2 2 2h14c1.1 0 2-.9 2-2V5c0-1.1-.9-2-2-2zM9 17H7v-7h2v7zm4 0h-2V7h2v10zm4 0h-2v-4h2v4z\"/>\n",
              "    </g>\n",
              "</svg>\n",
              "  </button>\n",
              "\n",
              "<style>\n",
              "  .colab-df-quickchart {\n",
              "      --bg-color: #E8F0FE;\n",
              "      --fill-color: #1967D2;\n",
              "      --hover-bg-color: #E2EBFA;\n",
              "      --hover-fill-color: #174EA6;\n",
              "      --disabled-fill-color: #AAA;\n",
              "      --disabled-bg-color: #DDD;\n",
              "  }\n",
              "\n",
              "  [theme=dark] .colab-df-quickchart {\n",
              "      --bg-color: #3B4455;\n",
              "      --fill-color: #D2E3FC;\n",
              "      --hover-bg-color: #434B5C;\n",
              "      --hover-fill-color: #FFFFFF;\n",
              "      --disabled-bg-color: #3B4455;\n",
              "      --disabled-fill-color: #666;\n",
              "  }\n",
              "\n",
              "  .colab-df-quickchart {\n",
              "    background-color: var(--bg-color);\n",
              "    border: none;\n",
              "    border-radius: 50%;\n",
              "    cursor: pointer;\n",
              "    display: none;\n",
              "    fill: var(--fill-color);\n",
              "    height: 32px;\n",
              "    padding: 0;\n",
              "    width: 32px;\n",
              "  }\n",
              "\n",
              "  .colab-df-quickchart:hover {\n",
              "    background-color: var(--hover-bg-color);\n",
              "    box-shadow: 0 1px 2px rgba(60, 64, 67, 0.3), 0 1px 3px 1px rgba(60, 64, 67, 0.15);\n",
              "    fill: var(--button-hover-fill-color);\n",
              "  }\n",
              "\n",
              "  .colab-df-quickchart-complete:disabled,\n",
              "  .colab-df-quickchart-complete:disabled:hover {\n",
              "    background-color: var(--disabled-bg-color);\n",
              "    fill: var(--disabled-fill-color);\n",
              "    box-shadow: none;\n",
              "  }\n",
              "\n",
              "  .colab-df-spinner {\n",
              "    border: 2px solid var(--fill-color);\n",
              "    border-color: transparent;\n",
              "    border-bottom-color: var(--fill-color);\n",
              "    animation:\n",
              "      spin 1s steps(1) infinite;\n",
              "  }\n",
              "\n",
              "  @keyframes spin {\n",
              "    0% {\n",
              "      border-color: transparent;\n",
              "      border-bottom-color: var(--fill-color);\n",
              "      border-left-color: var(--fill-color);\n",
              "    }\n",
              "    20% {\n",
              "      border-color: transparent;\n",
              "      border-left-color: var(--fill-color);\n",
              "      border-top-color: var(--fill-color);\n",
              "    }\n",
              "    30% {\n",
              "      border-color: transparent;\n",
              "      border-left-color: var(--fill-color);\n",
              "      border-top-color: var(--fill-color);\n",
              "      border-right-color: var(--fill-color);\n",
              "    }\n",
              "    40% {\n",
              "      border-color: transparent;\n",
              "      border-right-color: var(--fill-color);\n",
              "      border-top-color: var(--fill-color);\n",
              "    }\n",
              "    60% {\n",
              "      border-color: transparent;\n",
              "      border-right-color: var(--fill-color);\n",
              "    }\n",
              "    80% {\n",
              "      border-color: transparent;\n",
              "      border-right-color: var(--fill-color);\n",
              "      border-bottom-color: var(--fill-color);\n",
              "    }\n",
              "    90% {\n",
              "      border-color: transparent;\n",
              "      border-bottom-color: var(--fill-color);\n",
              "    }\n",
              "  }\n",
              "</style>\n",
              "\n",
              "  <script>\n",
              "    async function quickchart(key) {\n",
              "      const quickchartButtonEl =\n",
              "        document.querySelector('#' + key + ' button');\n",
              "      quickchartButtonEl.disabled = true;  // To prevent multiple clicks.\n",
              "      quickchartButtonEl.classList.add('colab-df-spinner');\n",
              "      try {\n",
              "        const charts = await google.colab.kernel.invokeFunction(\n",
              "            'suggestCharts', [key], {});\n",
              "      } catch (error) {\n",
              "        console.error('Error during call to suggestCharts:', error);\n",
              "      }\n",
              "      quickchartButtonEl.classList.remove('colab-df-spinner');\n",
              "      quickchartButtonEl.classList.add('colab-df-quickchart-complete');\n",
              "    }\n",
              "    (() => {\n",
              "      let quickchartButtonEl =\n",
              "        document.querySelector('#df-97c1acad-d662-4578-abf9-85d5502e6e09 button');\n",
              "      quickchartButtonEl.style.display =\n",
              "        google.colab.kernel.accessAllowed ? 'block' : 'none';\n",
              "    })();\n",
              "  </script>\n",
              "</div>\n",
              "\n",
              "    </div>\n",
              "  </div>\n"
            ],
            "application/vnd.google.colaboratory.intrinsic+json": {
              "type": "dataframe",
              "variable_name": "midway_lows",
              "summary": "{\n  \"name\": \"midway_lows\",\n  \"rows\": 366,\n  \"fields\": [\n    {\n      \"column\": \"low_temp_f\",\n      \"properties\": {\n        \"dtype\": \"number\",\n        \"std\": 16.80490455572512,\n        \"min\": -9.0,\n        \"max\": 81.0,\n        \"num_unique_values\": 77,\n        \"samples\": [\n          62.1,\n          33.1,\n          71.1\n        ],\n        \"semantic_type\": \"\",\n        \"description\": \"\"\n      }\n    },\n    {\n      \"column\": \"date\",\n      \"properties\": {\n        \"dtype\": \"date\",\n        \"min\": \"2023-07-12 00:00:00\",\n        \"max\": \"2024-07-11 00:00:00\",\n        \"num_unique_values\": 366,\n        \"samples\": [\n          \"2024-01-21 00:00:00\",\n          \"2023-08-14 00:00:00\",\n          \"2023-07-27 00:00:00\"\n        ],\n        \"semantic_type\": \"\",\n        \"description\": \"\"\n      }\n    }\n  ]\n}"
            }
          },
          "metadata": {},
          "execution_count": 2
        }
      ]
    },
    {
      "cell_type": "code",
      "source": [
        "midway_lows.dtypes"
      ],
      "metadata": {
        "colab": {
          "base_uri": "https://localhost:8080/",
          "height": 147
        },
        "id": "97SUYQS9nkhH",
        "outputId": "5c08bbed-4b05-4e39-e671-137f666d4682"
      },
      "execution_count": 3,
      "outputs": [
        {
          "output_type": "execute_result",
          "data": {
            "text/plain": [
              "low_temp_f           float64\n",
              "date          datetime64[ns]\n",
              "dtype: object"
            ],
            "text/html": [
              "<div>\n",
              "<style scoped>\n",
              "    .dataframe tbody tr th:only-of-type {\n",
              "        vertical-align: middle;\n",
              "    }\n",
              "\n",
              "    .dataframe tbody tr th {\n",
              "        vertical-align: top;\n",
              "    }\n",
              "\n",
              "    .dataframe thead th {\n",
              "        text-align: right;\n",
              "    }\n",
              "</style>\n",
              "<table border=\"1\" class=\"dataframe\">\n",
              "  <thead>\n",
              "    <tr style=\"text-align: right;\">\n",
              "      <th></th>\n",
              "      <th>0</th>\n",
              "    </tr>\n",
              "  </thead>\n",
              "  <tbody>\n",
              "    <tr>\n",
              "      <th>low_temp_f</th>\n",
              "      <td>float64</td>\n",
              "    </tr>\n",
              "    <tr>\n",
              "      <th>date</th>\n",
              "      <td>datetime64[ns]</td>\n",
              "    </tr>\n",
              "  </tbody>\n",
              "</table>\n",
              "</div><br><label><b>dtype:</b> object</label>"
            ]
          },
          "metadata": {},
          "execution_count": 3
        }
      ]
    },
    {
      "cell_type": "markdown",
      "source": [
        "To calculate the last freeze date, it's helpful reverse the order of the rows so that you're working backwards from summer, spring, then winter. That's because it's actually a bit easier to calculate the first freeze with the [cumulative sum function](https://pandas.pydata.org/docs/reference/api/pandas.Series.cumsum.html) than it is to get the last freeze."
      ],
      "metadata": {
        "id": "-2Bgu8NDsHwL"
      }
    },
    {
      "cell_type": "code",
      "source": [
        "midway_lows_reversed = midway_lows.set_index(\"date\").sort_index(ascending=False)\n",
        "midway_lows_reversed.head()"
      ],
      "metadata": {
        "colab": {
          "base_uri": "https://localhost:8080/",
          "height": 238
        },
        "id": "wzaYNgjbsX1U",
        "outputId": "d612bdba-4a1e-482a-d873-a49d3129770d"
      },
      "execution_count": 4,
      "outputs": [
        {
          "output_type": "execute_result",
          "data": {
            "text/plain": [
              "            low_temp_f\n",
              "date                  \n",
              "2024-07-11        69.1\n",
              "2024-07-10        66.9\n",
              "2024-07-09        73.0\n",
              "2024-07-08        71.1\n",
              "2024-07-07        66.9"
            ],
            "text/html": [
              "\n",
              "  <div id=\"df-cda8c3eb-971f-4c4d-a920-84c4fa217a93\" class=\"colab-df-container\">\n",
              "    <div>\n",
              "<style scoped>\n",
              "    .dataframe tbody tr th:only-of-type {\n",
              "        vertical-align: middle;\n",
              "    }\n",
              "\n",
              "    .dataframe tbody tr th {\n",
              "        vertical-align: top;\n",
              "    }\n",
              "\n",
              "    .dataframe thead th {\n",
              "        text-align: right;\n",
              "    }\n",
              "</style>\n",
              "<table border=\"1\" class=\"dataframe\">\n",
              "  <thead>\n",
              "    <tr style=\"text-align: right;\">\n",
              "      <th></th>\n",
              "      <th>low_temp_f</th>\n",
              "    </tr>\n",
              "    <tr>\n",
              "      <th>date</th>\n",
              "      <th></th>\n",
              "    </tr>\n",
              "  </thead>\n",
              "  <tbody>\n",
              "    <tr>\n",
              "      <th>2024-07-11</th>\n",
              "      <td>69.1</td>\n",
              "    </tr>\n",
              "    <tr>\n",
              "      <th>2024-07-10</th>\n",
              "      <td>66.9</td>\n",
              "    </tr>\n",
              "    <tr>\n",
              "      <th>2024-07-09</th>\n",
              "      <td>73.0</td>\n",
              "    </tr>\n",
              "    <tr>\n",
              "      <th>2024-07-08</th>\n",
              "      <td>71.1</td>\n",
              "    </tr>\n",
              "    <tr>\n",
              "      <th>2024-07-07</th>\n",
              "      <td>66.9</td>\n",
              "    </tr>\n",
              "  </tbody>\n",
              "</table>\n",
              "</div>\n",
              "    <div class=\"colab-df-buttons\">\n",
              "\n",
              "  <div class=\"colab-df-container\">\n",
              "    <button class=\"colab-df-convert\" onclick=\"convertToInteractive('df-cda8c3eb-971f-4c4d-a920-84c4fa217a93')\"\n",
              "            title=\"Convert this dataframe to an interactive table.\"\n",
              "            style=\"display:none;\">\n",
              "\n",
              "  <svg xmlns=\"http://www.w3.org/2000/svg\" height=\"24px\" viewBox=\"0 -960 960 960\">\n",
              "    <path d=\"M120-120v-720h720v720H120Zm60-500h600v-160H180v160Zm220 220h160v-160H400v160Zm0 220h160v-160H400v160ZM180-400h160v-160H180v160Zm440 0h160v-160H620v160ZM180-180h160v-160H180v160Zm440 0h160v-160H620v160Z\"/>\n",
              "  </svg>\n",
              "    </button>\n",
              "\n",
              "  <style>\n",
              "    .colab-df-container {\n",
              "      display:flex;\n",
              "      gap: 12px;\n",
              "    }\n",
              "\n",
              "    .colab-df-convert {\n",
              "      background-color: #E8F0FE;\n",
              "      border: none;\n",
              "      border-radius: 50%;\n",
              "      cursor: pointer;\n",
              "      display: none;\n",
              "      fill: #1967D2;\n",
              "      height: 32px;\n",
              "      padding: 0 0 0 0;\n",
              "      width: 32px;\n",
              "    }\n",
              "\n",
              "    .colab-df-convert:hover {\n",
              "      background-color: #E2EBFA;\n",
              "      box-shadow: 0px 1px 2px rgba(60, 64, 67, 0.3), 0px 1px 3px 1px rgba(60, 64, 67, 0.15);\n",
              "      fill: #174EA6;\n",
              "    }\n",
              "\n",
              "    .colab-df-buttons div {\n",
              "      margin-bottom: 4px;\n",
              "    }\n",
              "\n",
              "    [theme=dark] .colab-df-convert {\n",
              "      background-color: #3B4455;\n",
              "      fill: #D2E3FC;\n",
              "    }\n",
              "\n",
              "    [theme=dark] .colab-df-convert:hover {\n",
              "      background-color: #434B5C;\n",
              "      box-shadow: 0px 1px 3px 1px rgba(0, 0, 0, 0.15);\n",
              "      filter: drop-shadow(0px 1px 2px rgba(0, 0, 0, 0.3));\n",
              "      fill: #FFFFFF;\n",
              "    }\n",
              "  </style>\n",
              "\n",
              "    <script>\n",
              "      const buttonEl =\n",
              "        document.querySelector('#df-cda8c3eb-971f-4c4d-a920-84c4fa217a93 button.colab-df-convert');\n",
              "      buttonEl.style.display =\n",
              "        google.colab.kernel.accessAllowed ? 'block' : 'none';\n",
              "\n",
              "      async function convertToInteractive(key) {\n",
              "        const element = document.querySelector('#df-cda8c3eb-971f-4c4d-a920-84c4fa217a93');\n",
              "        const dataTable =\n",
              "          await google.colab.kernel.invokeFunction('convertToInteractive',\n",
              "                                                    [key], {});\n",
              "        if (!dataTable) return;\n",
              "\n",
              "        const docLinkHtml = 'Like what you see? Visit the ' +\n",
              "          '<a target=\"_blank\" href=https://colab.research.google.com/notebooks/data_table.ipynb>data table notebook</a>'\n",
              "          + ' to learn more about interactive tables.';\n",
              "        element.innerHTML = '';\n",
              "        dataTable['output_type'] = 'display_data';\n",
              "        await google.colab.output.renderOutput(dataTable, element);\n",
              "        const docLink = document.createElement('div');\n",
              "        docLink.innerHTML = docLinkHtml;\n",
              "        element.appendChild(docLink);\n",
              "      }\n",
              "    </script>\n",
              "  </div>\n",
              "\n",
              "\n",
              "<div id=\"df-d81ae1d9-5de7-4816-802d-498e4a856956\">\n",
              "  <button class=\"colab-df-quickchart\" onclick=\"quickchart('df-d81ae1d9-5de7-4816-802d-498e4a856956')\"\n",
              "            title=\"Suggest charts\"\n",
              "            style=\"display:none;\">\n",
              "\n",
              "<svg xmlns=\"http://www.w3.org/2000/svg\" height=\"24px\"viewBox=\"0 0 24 24\"\n",
              "     width=\"24px\">\n",
              "    <g>\n",
              "        <path d=\"M19 3H5c-1.1 0-2 .9-2 2v14c0 1.1.9 2 2 2h14c1.1 0 2-.9 2-2V5c0-1.1-.9-2-2-2zM9 17H7v-7h2v7zm4 0h-2V7h2v10zm4 0h-2v-4h2v4z\"/>\n",
              "    </g>\n",
              "</svg>\n",
              "  </button>\n",
              "\n",
              "<style>\n",
              "  .colab-df-quickchart {\n",
              "      --bg-color: #E8F0FE;\n",
              "      --fill-color: #1967D2;\n",
              "      --hover-bg-color: #E2EBFA;\n",
              "      --hover-fill-color: #174EA6;\n",
              "      --disabled-fill-color: #AAA;\n",
              "      --disabled-bg-color: #DDD;\n",
              "  }\n",
              "\n",
              "  [theme=dark] .colab-df-quickchart {\n",
              "      --bg-color: #3B4455;\n",
              "      --fill-color: #D2E3FC;\n",
              "      --hover-bg-color: #434B5C;\n",
              "      --hover-fill-color: #FFFFFF;\n",
              "      --disabled-bg-color: #3B4455;\n",
              "      --disabled-fill-color: #666;\n",
              "  }\n",
              "\n",
              "  .colab-df-quickchart {\n",
              "    background-color: var(--bg-color);\n",
              "    border: none;\n",
              "    border-radius: 50%;\n",
              "    cursor: pointer;\n",
              "    display: none;\n",
              "    fill: var(--fill-color);\n",
              "    height: 32px;\n",
              "    padding: 0;\n",
              "    width: 32px;\n",
              "  }\n",
              "\n",
              "  .colab-df-quickchart:hover {\n",
              "    background-color: var(--hover-bg-color);\n",
              "    box-shadow: 0 1px 2px rgba(60, 64, 67, 0.3), 0 1px 3px 1px rgba(60, 64, 67, 0.15);\n",
              "    fill: var(--button-hover-fill-color);\n",
              "  }\n",
              "\n",
              "  .colab-df-quickchart-complete:disabled,\n",
              "  .colab-df-quickchart-complete:disabled:hover {\n",
              "    background-color: var(--disabled-bg-color);\n",
              "    fill: var(--disabled-fill-color);\n",
              "    box-shadow: none;\n",
              "  }\n",
              "\n",
              "  .colab-df-spinner {\n",
              "    border: 2px solid var(--fill-color);\n",
              "    border-color: transparent;\n",
              "    border-bottom-color: var(--fill-color);\n",
              "    animation:\n",
              "      spin 1s steps(1) infinite;\n",
              "  }\n",
              "\n",
              "  @keyframes spin {\n",
              "    0% {\n",
              "      border-color: transparent;\n",
              "      border-bottom-color: var(--fill-color);\n",
              "      border-left-color: var(--fill-color);\n",
              "    }\n",
              "    20% {\n",
              "      border-color: transparent;\n",
              "      border-left-color: var(--fill-color);\n",
              "      border-top-color: var(--fill-color);\n",
              "    }\n",
              "    30% {\n",
              "      border-color: transparent;\n",
              "      border-left-color: var(--fill-color);\n",
              "      border-top-color: var(--fill-color);\n",
              "      border-right-color: var(--fill-color);\n",
              "    }\n",
              "    40% {\n",
              "      border-color: transparent;\n",
              "      border-right-color: var(--fill-color);\n",
              "      border-top-color: var(--fill-color);\n",
              "    }\n",
              "    60% {\n",
              "      border-color: transparent;\n",
              "      border-right-color: var(--fill-color);\n",
              "    }\n",
              "    80% {\n",
              "      border-color: transparent;\n",
              "      border-right-color: var(--fill-color);\n",
              "      border-bottom-color: var(--fill-color);\n",
              "    }\n",
              "    90% {\n",
              "      border-color: transparent;\n",
              "      border-bottom-color: var(--fill-color);\n",
              "    }\n",
              "  }\n",
              "</style>\n",
              "\n",
              "  <script>\n",
              "    async function quickchart(key) {\n",
              "      const quickchartButtonEl =\n",
              "        document.querySelector('#' + key + ' button');\n",
              "      quickchartButtonEl.disabled = true;  // To prevent multiple clicks.\n",
              "      quickchartButtonEl.classList.add('colab-df-spinner');\n",
              "      try {\n",
              "        const charts = await google.colab.kernel.invokeFunction(\n",
              "            'suggestCharts', [key], {});\n",
              "      } catch (error) {\n",
              "        console.error('Error during call to suggestCharts:', error);\n",
              "      }\n",
              "      quickchartButtonEl.classList.remove('colab-df-spinner');\n",
              "      quickchartButtonEl.classList.add('colab-df-quickchart-complete');\n",
              "    }\n",
              "    (() => {\n",
              "      let quickchartButtonEl =\n",
              "        document.querySelector('#df-d81ae1d9-5de7-4816-802d-498e4a856956 button');\n",
              "      quickchartButtonEl.style.display =\n",
              "        google.colab.kernel.accessAllowed ? 'block' : 'none';\n",
              "    })();\n",
              "  </script>\n",
              "</div>\n",
              "\n",
              "    </div>\n",
              "  </div>\n"
            ],
            "application/vnd.google.colaboratory.intrinsic+json": {
              "type": "dataframe",
              "variable_name": "midway_lows_reversed",
              "summary": "{\n  \"name\": \"midway_lows_reversed\",\n  \"rows\": 366,\n  \"fields\": [\n    {\n      \"column\": \"date\",\n      \"properties\": {\n        \"dtype\": \"date\",\n        \"min\": \"2023-07-12 00:00:00\",\n        \"max\": \"2024-07-11 00:00:00\",\n        \"num_unique_values\": 366,\n        \"samples\": [\n          \"2023-12-31 00:00:00\",\n          \"2024-06-08 00:00:00\",\n          \"2024-06-26 00:00:00\"\n        ],\n        \"semantic_type\": \"\",\n        \"description\": \"\"\n      }\n    },\n    {\n      \"column\": \"low_temp_f\",\n      \"properties\": {\n        \"dtype\": \"number\",\n        \"std\": 16.804904555725113,\n        \"min\": -9.0,\n        \"max\": 81.0,\n        \"num_unique_values\": 77,\n        \"samples\": [\n          64.9,\n          43.0,\n          63.0\n        ],\n        \"semantic_type\": \"\",\n        \"description\": \"\"\n      }\n    }\n  ]\n}"
            }
          },
          "metadata": {},
          "execution_count": 4
        }
      ]
    },
    {
      "cell_type": "markdown",
      "source": [
        "Freezing temperature is 32 °F. It'd be helpful to add a column indicating whether the temperature dropped to freezing."
      ],
      "metadata": {
        "id": "yB3RTfPMslOt"
      }
    },
    {
      "cell_type": "code",
      "source": [
        "midway_lows_reversed[\"freezing\"] = midway_lows_reversed[\"low_temp_f\"] <= 32\n",
        "midway_lows_reversed.head()"
      ],
      "metadata": {
        "colab": {
          "base_uri": "https://localhost:8080/",
          "height": 238
        },
        "id": "08Cia9jxtf6Y",
        "outputId": "2dd5d017-b995-4513-b578-df955d4ae477"
      },
      "execution_count": 5,
      "outputs": [
        {
          "output_type": "execute_result",
          "data": {
            "text/plain": [
              "            low_temp_f  freezing\n",
              "date                            \n",
              "2024-07-11        69.1     False\n",
              "2024-07-10        66.9     False\n",
              "2024-07-09        73.0     False\n",
              "2024-07-08        71.1     False\n",
              "2024-07-07        66.9     False"
            ],
            "text/html": [
              "\n",
              "  <div id=\"df-e336a815-6e9a-479a-94e0-22671abbb163\" class=\"colab-df-container\">\n",
              "    <div>\n",
              "<style scoped>\n",
              "    .dataframe tbody tr th:only-of-type {\n",
              "        vertical-align: middle;\n",
              "    }\n",
              "\n",
              "    .dataframe tbody tr th {\n",
              "        vertical-align: top;\n",
              "    }\n",
              "\n",
              "    .dataframe thead th {\n",
              "        text-align: right;\n",
              "    }\n",
              "</style>\n",
              "<table border=\"1\" class=\"dataframe\">\n",
              "  <thead>\n",
              "    <tr style=\"text-align: right;\">\n",
              "      <th></th>\n",
              "      <th>low_temp_f</th>\n",
              "      <th>freezing</th>\n",
              "    </tr>\n",
              "    <tr>\n",
              "      <th>date</th>\n",
              "      <th></th>\n",
              "      <th></th>\n",
              "    </tr>\n",
              "  </thead>\n",
              "  <tbody>\n",
              "    <tr>\n",
              "      <th>2024-07-11</th>\n",
              "      <td>69.1</td>\n",
              "      <td>False</td>\n",
              "    </tr>\n",
              "    <tr>\n",
              "      <th>2024-07-10</th>\n",
              "      <td>66.9</td>\n",
              "      <td>False</td>\n",
              "    </tr>\n",
              "    <tr>\n",
              "      <th>2024-07-09</th>\n",
              "      <td>73.0</td>\n",
              "      <td>False</td>\n",
              "    </tr>\n",
              "    <tr>\n",
              "      <th>2024-07-08</th>\n",
              "      <td>71.1</td>\n",
              "      <td>False</td>\n",
              "    </tr>\n",
              "    <tr>\n",
              "      <th>2024-07-07</th>\n",
              "      <td>66.9</td>\n",
              "      <td>False</td>\n",
              "    </tr>\n",
              "  </tbody>\n",
              "</table>\n",
              "</div>\n",
              "    <div class=\"colab-df-buttons\">\n",
              "\n",
              "  <div class=\"colab-df-container\">\n",
              "    <button class=\"colab-df-convert\" onclick=\"convertToInteractive('df-e336a815-6e9a-479a-94e0-22671abbb163')\"\n",
              "            title=\"Convert this dataframe to an interactive table.\"\n",
              "            style=\"display:none;\">\n",
              "\n",
              "  <svg xmlns=\"http://www.w3.org/2000/svg\" height=\"24px\" viewBox=\"0 -960 960 960\">\n",
              "    <path d=\"M120-120v-720h720v720H120Zm60-500h600v-160H180v160Zm220 220h160v-160H400v160Zm0 220h160v-160H400v160ZM180-400h160v-160H180v160Zm440 0h160v-160H620v160ZM180-180h160v-160H180v160Zm440 0h160v-160H620v160Z\"/>\n",
              "  </svg>\n",
              "    </button>\n",
              "\n",
              "  <style>\n",
              "    .colab-df-container {\n",
              "      display:flex;\n",
              "      gap: 12px;\n",
              "    }\n",
              "\n",
              "    .colab-df-convert {\n",
              "      background-color: #E8F0FE;\n",
              "      border: none;\n",
              "      border-radius: 50%;\n",
              "      cursor: pointer;\n",
              "      display: none;\n",
              "      fill: #1967D2;\n",
              "      height: 32px;\n",
              "      padding: 0 0 0 0;\n",
              "      width: 32px;\n",
              "    }\n",
              "\n",
              "    .colab-df-convert:hover {\n",
              "      background-color: #E2EBFA;\n",
              "      box-shadow: 0px 1px 2px rgba(60, 64, 67, 0.3), 0px 1px 3px 1px rgba(60, 64, 67, 0.15);\n",
              "      fill: #174EA6;\n",
              "    }\n",
              "\n",
              "    .colab-df-buttons div {\n",
              "      margin-bottom: 4px;\n",
              "    }\n",
              "\n",
              "    [theme=dark] .colab-df-convert {\n",
              "      background-color: #3B4455;\n",
              "      fill: #D2E3FC;\n",
              "    }\n",
              "\n",
              "    [theme=dark] .colab-df-convert:hover {\n",
              "      background-color: #434B5C;\n",
              "      box-shadow: 0px 1px 3px 1px rgba(0, 0, 0, 0.15);\n",
              "      filter: drop-shadow(0px 1px 2px rgba(0, 0, 0, 0.3));\n",
              "      fill: #FFFFFF;\n",
              "    }\n",
              "  </style>\n",
              "\n",
              "    <script>\n",
              "      const buttonEl =\n",
              "        document.querySelector('#df-e336a815-6e9a-479a-94e0-22671abbb163 button.colab-df-convert');\n",
              "      buttonEl.style.display =\n",
              "        google.colab.kernel.accessAllowed ? 'block' : 'none';\n",
              "\n",
              "      async function convertToInteractive(key) {\n",
              "        const element = document.querySelector('#df-e336a815-6e9a-479a-94e0-22671abbb163');\n",
              "        const dataTable =\n",
              "          await google.colab.kernel.invokeFunction('convertToInteractive',\n",
              "                                                    [key], {});\n",
              "        if (!dataTable) return;\n",
              "\n",
              "        const docLinkHtml = 'Like what you see? Visit the ' +\n",
              "          '<a target=\"_blank\" href=https://colab.research.google.com/notebooks/data_table.ipynb>data table notebook</a>'\n",
              "          + ' to learn more about interactive tables.';\n",
              "        element.innerHTML = '';\n",
              "        dataTable['output_type'] = 'display_data';\n",
              "        await google.colab.output.renderOutput(dataTable, element);\n",
              "        const docLink = document.createElement('div');\n",
              "        docLink.innerHTML = docLinkHtml;\n",
              "        element.appendChild(docLink);\n",
              "      }\n",
              "    </script>\n",
              "  </div>\n",
              "\n",
              "\n",
              "<div id=\"df-70ad522a-74e8-44e7-ad38-c651a7901831\">\n",
              "  <button class=\"colab-df-quickchart\" onclick=\"quickchart('df-70ad522a-74e8-44e7-ad38-c651a7901831')\"\n",
              "            title=\"Suggest charts\"\n",
              "            style=\"display:none;\">\n",
              "\n",
              "<svg xmlns=\"http://www.w3.org/2000/svg\" height=\"24px\"viewBox=\"0 0 24 24\"\n",
              "     width=\"24px\">\n",
              "    <g>\n",
              "        <path d=\"M19 3H5c-1.1 0-2 .9-2 2v14c0 1.1.9 2 2 2h14c1.1 0 2-.9 2-2V5c0-1.1-.9-2-2-2zM9 17H7v-7h2v7zm4 0h-2V7h2v10zm4 0h-2v-4h2v4z\"/>\n",
              "    </g>\n",
              "</svg>\n",
              "  </button>\n",
              "\n",
              "<style>\n",
              "  .colab-df-quickchart {\n",
              "      --bg-color: #E8F0FE;\n",
              "      --fill-color: #1967D2;\n",
              "      --hover-bg-color: #E2EBFA;\n",
              "      --hover-fill-color: #174EA6;\n",
              "      --disabled-fill-color: #AAA;\n",
              "      --disabled-bg-color: #DDD;\n",
              "  }\n",
              "\n",
              "  [theme=dark] .colab-df-quickchart {\n",
              "      --bg-color: #3B4455;\n",
              "      --fill-color: #D2E3FC;\n",
              "      --hover-bg-color: #434B5C;\n",
              "      --hover-fill-color: #FFFFFF;\n",
              "      --disabled-bg-color: #3B4455;\n",
              "      --disabled-fill-color: #666;\n",
              "  }\n",
              "\n",
              "  .colab-df-quickchart {\n",
              "    background-color: var(--bg-color);\n",
              "    border: none;\n",
              "    border-radius: 50%;\n",
              "    cursor: pointer;\n",
              "    display: none;\n",
              "    fill: var(--fill-color);\n",
              "    height: 32px;\n",
              "    padding: 0;\n",
              "    width: 32px;\n",
              "  }\n",
              "\n",
              "  .colab-df-quickchart:hover {\n",
              "    background-color: var(--hover-bg-color);\n",
              "    box-shadow: 0 1px 2px rgba(60, 64, 67, 0.3), 0 1px 3px 1px rgba(60, 64, 67, 0.15);\n",
              "    fill: var(--button-hover-fill-color);\n",
              "  }\n",
              "\n",
              "  .colab-df-quickchart-complete:disabled,\n",
              "  .colab-df-quickchart-complete:disabled:hover {\n",
              "    background-color: var(--disabled-bg-color);\n",
              "    fill: var(--disabled-fill-color);\n",
              "    box-shadow: none;\n",
              "  }\n",
              "\n",
              "  .colab-df-spinner {\n",
              "    border: 2px solid var(--fill-color);\n",
              "    border-color: transparent;\n",
              "    border-bottom-color: var(--fill-color);\n",
              "    animation:\n",
              "      spin 1s steps(1) infinite;\n",
              "  }\n",
              "\n",
              "  @keyframes spin {\n",
              "    0% {\n",
              "      border-color: transparent;\n",
              "      border-bottom-color: var(--fill-color);\n",
              "      border-left-color: var(--fill-color);\n",
              "    }\n",
              "    20% {\n",
              "      border-color: transparent;\n",
              "      border-left-color: var(--fill-color);\n",
              "      border-top-color: var(--fill-color);\n",
              "    }\n",
              "    30% {\n",
              "      border-color: transparent;\n",
              "      border-left-color: var(--fill-color);\n",
              "      border-top-color: var(--fill-color);\n",
              "      border-right-color: var(--fill-color);\n",
              "    }\n",
              "    40% {\n",
              "      border-color: transparent;\n",
              "      border-right-color: var(--fill-color);\n",
              "      border-top-color: var(--fill-color);\n",
              "    }\n",
              "    60% {\n",
              "      border-color: transparent;\n",
              "      border-right-color: var(--fill-color);\n",
              "    }\n",
              "    80% {\n",
              "      border-color: transparent;\n",
              "      border-right-color: var(--fill-color);\n",
              "      border-bottom-color: var(--fill-color);\n",
              "    }\n",
              "    90% {\n",
              "      border-color: transparent;\n",
              "      border-bottom-color: var(--fill-color);\n",
              "    }\n",
              "  }\n",
              "</style>\n",
              "\n",
              "  <script>\n",
              "    async function quickchart(key) {\n",
              "      const quickchartButtonEl =\n",
              "        document.querySelector('#' + key + ' button');\n",
              "      quickchartButtonEl.disabled = true;  // To prevent multiple clicks.\n",
              "      quickchartButtonEl.classList.add('colab-df-spinner');\n",
              "      try {\n",
              "        const charts = await google.colab.kernel.invokeFunction(\n",
              "            'suggestCharts', [key], {});\n",
              "      } catch (error) {\n",
              "        console.error('Error during call to suggestCharts:', error);\n",
              "      }\n",
              "      quickchartButtonEl.classList.remove('colab-df-spinner');\n",
              "      quickchartButtonEl.classList.add('colab-df-quickchart-complete');\n",
              "    }\n",
              "    (() => {\n",
              "      let quickchartButtonEl =\n",
              "        document.querySelector('#df-70ad522a-74e8-44e7-ad38-c651a7901831 button');\n",
              "      quickchartButtonEl.style.display =\n",
              "        google.colab.kernel.accessAllowed ? 'block' : 'none';\n",
              "    })();\n",
              "  </script>\n",
              "</div>\n",
              "\n",
              "    </div>\n",
              "  </div>\n"
            ],
            "application/vnd.google.colaboratory.intrinsic+json": {
              "type": "dataframe",
              "variable_name": "midway_lows_reversed",
              "summary": "{\n  \"name\": \"midway_lows_reversed\",\n  \"rows\": 366,\n  \"fields\": [\n    {\n      \"column\": \"date\",\n      \"properties\": {\n        \"dtype\": \"date\",\n        \"min\": \"2023-07-12 00:00:00\",\n        \"max\": \"2024-07-11 00:00:00\",\n        \"num_unique_values\": 366,\n        \"samples\": [\n          \"2023-12-31 00:00:00\",\n          \"2024-06-08 00:00:00\",\n          \"2024-06-26 00:00:00\"\n        ],\n        \"semantic_type\": \"\",\n        \"description\": \"\"\n      }\n    },\n    {\n      \"column\": \"low_temp_f\",\n      \"properties\": {\n        \"dtype\": \"number\",\n        \"std\": 16.804904555725113,\n        \"min\": -9.0,\n        \"max\": 81.0,\n        \"num_unique_values\": 77,\n        \"samples\": [\n          64.9,\n          43.0,\n          63.0\n        ],\n        \"semantic_type\": \"\",\n        \"description\": \"\"\n      }\n    },\n    {\n      \"column\": \"freezing\",\n      \"properties\": {\n        \"dtype\": \"boolean\",\n        \"num_unique_values\": 2,\n        \"samples\": [\n          true,\n          false\n        ],\n        \"semantic_type\": \"\",\n        \"description\": \"\"\n      }\n    }\n  ]\n}"
            }
          },
          "metadata": {},
          "execution_count": 5
        }
      ]
    },
    {
      "cell_type": "markdown",
      "source": [
        "To find the last freeze date, we'll take the cumulative sum. This will count how many freezing days we've had so far."
      ],
      "metadata": {
        "id": "HpV40Adlt0A7"
      }
    },
    {
      "cell_type": "code",
      "source": [
        "midway_lows_reversed[\"freezing_days\"] = midway_lows_reversed[\"freezing\"].cumsum()\n",
        "midway_lows_reversed.head()"
      ],
      "metadata": {
        "colab": {
          "base_uri": "https://localhost:8080/",
          "height": 238
        },
        "id": "zP5VKWCpukVl",
        "outputId": "dceb071d-4eb6-43a7-d6b8-0abbf841d5e8"
      },
      "execution_count": 6,
      "outputs": [
        {
          "output_type": "execute_result",
          "data": {
            "text/plain": [
              "            low_temp_f  freezing  freezing_days\n",
              "date                                           \n",
              "2024-07-11        69.1     False              0\n",
              "2024-07-10        66.9     False              0\n",
              "2024-07-09        73.0     False              0\n",
              "2024-07-08        71.1     False              0\n",
              "2024-07-07        66.9     False              0"
            ],
            "text/html": [
              "\n",
              "  <div id=\"df-22ee59b6-7f25-4782-8706-ea31c3ea8a4f\" class=\"colab-df-container\">\n",
              "    <div>\n",
              "<style scoped>\n",
              "    .dataframe tbody tr th:only-of-type {\n",
              "        vertical-align: middle;\n",
              "    }\n",
              "\n",
              "    .dataframe tbody tr th {\n",
              "        vertical-align: top;\n",
              "    }\n",
              "\n",
              "    .dataframe thead th {\n",
              "        text-align: right;\n",
              "    }\n",
              "</style>\n",
              "<table border=\"1\" class=\"dataframe\">\n",
              "  <thead>\n",
              "    <tr style=\"text-align: right;\">\n",
              "      <th></th>\n",
              "      <th>low_temp_f</th>\n",
              "      <th>freezing</th>\n",
              "      <th>freezing_days</th>\n",
              "    </tr>\n",
              "    <tr>\n",
              "      <th>date</th>\n",
              "      <th></th>\n",
              "      <th></th>\n",
              "      <th></th>\n",
              "    </tr>\n",
              "  </thead>\n",
              "  <tbody>\n",
              "    <tr>\n",
              "      <th>2024-07-11</th>\n",
              "      <td>69.1</td>\n",
              "      <td>False</td>\n",
              "      <td>0</td>\n",
              "    </tr>\n",
              "    <tr>\n",
              "      <th>2024-07-10</th>\n",
              "      <td>66.9</td>\n",
              "      <td>False</td>\n",
              "      <td>0</td>\n",
              "    </tr>\n",
              "    <tr>\n",
              "      <th>2024-07-09</th>\n",
              "      <td>73.0</td>\n",
              "      <td>False</td>\n",
              "      <td>0</td>\n",
              "    </tr>\n",
              "    <tr>\n",
              "      <th>2024-07-08</th>\n",
              "      <td>71.1</td>\n",
              "      <td>False</td>\n",
              "      <td>0</td>\n",
              "    </tr>\n",
              "    <tr>\n",
              "      <th>2024-07-07</th>\n",
              "      <td>66.9</td>\n",
              "      <td>False</td>\n",
              "      <td>0</td>\n",
              "    </tr>\n",
              "  </tbody>\n",
              "</table>\n",
              "</div>\n",
              "    <div class=\"colab-df-buttons\">\n",
              "\n",
              "  <div class=\"colab-df-container\">\n",
              "    <button class=\"colab-df-convert\" onclick=\"convertToInteractive('df-22ee59b6-7f25-4782-8706-ea31c3ea8a4f')\"\n",
              "            title=\"Convert this dataframe to an interactive table.\"\n",
              "            style=\"display:none;\">\n",
              "\n",
              "  <svg xmlns=\"http://www.w3.org/2000/svg\" height=\"24px\" viewBox=\"0 -960 960 960\">\n",
              "    <path d=\"M120-120v-720h720v720H120Zm60-500h600v-160H180v160Zm220 220h160v-160H400v160Zm0 220h160v-160H400v160ZM180-400h160v-160H180v160Zm440 0h160v-160H620v160ZM180-180h160v-160H180v160Zm440 0h160v-160H620v160Z\"/>\n",
              "  </svg>\n",
              "    </button>\n",
              "\n",
              "  <style>\n",
              "    .colab-df-container {\n",
              "      display:flex;\n",
              "      gap: 12px;\n",
              "    }\n",
              "\n",
              "    .colab-df-convert {\n",
              "      background-color: #E8F0FE;\n",
              "      border: none;\n",
              "      border-radius: 50%;\n",
              "      cursor: pointer;\n",
              "      display: none;\n",
              "      fill: #1967D2;\n",
              "      height: 32px;\n",
              "      padding: 0 0 0 0;\n",
              "      width: 32px;\n",
              "    }\n",
              "\n",
              "    .colab-df-convert:hover {\n",
              "      background-color: #E2EBFA;\n",
              "      box-shadow: 0px 1px 2px rgba(60, 64, 67, 0.3), 0px 1px 3px 1px rgba(60, 64, 67, 0.15);\n",
              "      fill: #174EA6;\n",
              "    }\n",
              "\n",
              "    .colab-df-buttons div {\n",
              "      margin-bottom: 4px;\n",
              "    }\n",
              "\n",
              "    [theme=dark] .colab-df-convert {\n",
              "      background-color: #3B4455;\n",
              "      fill: #D2E3FC;\n",
              "    }\n",
              "\n",
              "    [theme=dark] .colab-df-convert:hover {\n",
              "      background-color: #434B5C;\n",
              "      box-shadow: 0px 1px 3px 1px rgba(0, 0, 0, 0.15);\n",
              "      filter: drop-shadow(0px 1px 2px rgba(0, 0, 0, 0.3));\n",
              "      fill: #FFFFFF;\n",
              "    }\n",
              "  </style>\n",
              "\n",
              "    <script>\n",
              "      const buttonEl =\n",
              "        document.querySelector('#df-22ee59b6-7f25-4782-8706-ea31c3ea8a4f button.colab-df-convert');\n",
              "      buttonEl.style.display =\n",
              "        google.colab.kernel.accessAllowed ? 'block' : 'none';\n",
              "\n",
              "      async function convertToInteractive(key) {\n",
              "        const element = document.querySelector('#df-22ee59b6-7f25-4782-8706-ea31c3ea8a4f');\n",
              "        const dataTable =\n",
              "          await google.colab.kernel.invokeFunction('convertToInteractive',\n",
              "                                                    [key], {});\n",
              "        if (!dataTable) return;\n",
              "\n",
              "        const docLinkHtml = 'Like what you see? Visit the ' +\n",
              "          '<a target=\"_blank\" href=https://colab.research.google.com/notebooks/data_table.ipynb>data table notebook</a>'\n",
              "          + ' to learn more about interactive tables.';\n",
              "        element.innerHTML = '';\n",
              "        dataTable['output_type'] = 'display_data';\n",
              "        await google.colab.output.renderOutput(dataTable, element);\n",
              "        const docLink = document.createElement('div');\n",
              "        docLink.innerHTML = docLinkHtml;\n",
              "        element.appendChild(docLink);\n",
              "      }\n",
              "    </script>\n",
              "  </div>\n",
              "\n",
              "\n",
              "<div id=\"df-04d61e44-cfa3-4396-a762-e05539dcac9a\">\n",
              "  <button class=\"colab-df-quickchart\" onclick=\"quickchart('df-04d61e44-cfa3-4396-a762-e05539dcac9a')\"\n",
              "            title=\"Suggest charts\"\n",
              "            style=\"display:none;\">\n",
              "\n",
              "<svg xmlns=\"http://www.w3.org/2000/svg\" height=\"24px\"viewBox=\"0 0 24 24\"\n",
              "     width=\"24px\">\n",
              "    <g>\n",
              "        <path d=\"M19 3H5c-1.1 0-2 .9-2 2v14c0 1.1.9 2 2 2h14c1.1 0 2-.9 2-2V5c0-1.1-.9-2-2-2zM9 17H7v-7h2v7zm4 0h-2V7h2v10zm4 0h-2v-4h2v4z\"/>\n",
              "    </g>\n",
              "</svg>\n",
              "  </button>\n",
              "\n",
              "<style>\n",
              "  .colab-df-quickchart {\n",
              "      --bg-color: #E8F0FE;\n",
              "      --fill-color: #1967D2;\n",
              "      --hover-bg-color: #E2EBFA;\n",
              "      --hover-fill-color: #174EA6;\n",
              "      --disabled-fill-color: #AAA;\n",
              "      --disabled-bg-color: #DDD;\n",
              "  }\n",
              "\n",
              "  [theme=dark] .colab-df-quickchart {\n",
              "      --bg-color: #3B4455;\n",
              "      --fill-color: #D2E3FC;\n",
              "      --hover-bg-color: #434B5C;\n",
              "      --hover-fill-color: #FFFFFF;\n",
              "      --disabled-bg-color: #3B4455;\n",
              "      --disabled-fill-color: #666;\n",
              "  }\n",
              "\n",
              "  .colab-df-quickchart {\n",
              "    background-color: var(--bg-color);\n",
              "    border: none;\n",
              "    border-radius: 50%;\n",
              "    cursor: pointer;\n",
              "    display: none;\n",
              "    fill: var(--fill-color);\n",
              "    height: 32px;\n",
              "    padding: 0;\n",
              "    width: 32px;\n",
              "  }\n",
              "\n",
              "  .colab-df-quickchart:hover {\n",
              "    background-color: var(--hover-bg-color);\n",
              "    box-shadow: 0 1px 2px rgba(60, 64, 67, 0.3), 0 1px 3px 1px rgba(60, 64, 67, 0.15);\n",
              "    fill: var(--button-hover-fill-color);\n",
              "  }\n",
              "\n",
              "  .colab-df-quickchart-complete:disabled,\n",
              "  .colab-df-quickchart-complete:disabled:hover {\n",
              "    background-color: var(--disabled-bg-color);\n",
              "    fill: var(--disabled-fill-color);\n",
              "    box-shadow: none;\n",
              "  }\n",
              "\n",
              "  .colab-df-spinner {\n",
              "    border: 2px solid var(--fill-color);\n",
              "    border-color: transparent;\n",
              "    border-bottom-color: var(--fill-color);\n",
              "    animation:\n",
              "      spin 1s steps(1) infinite;\n",
              "  }\n",
              "\n",
              "  @keyframes spin {\n",
              "    0% {\n",
              "      border-color: transparent;\n",
              "      border-bottom-color: var(--fill-color);\n",
              "      border-left-color: var(--fill-color);\n",
              "    }\n",
              "    20% {\n",
              "      border-color: transparent;\n",
              "      border-left-color: var(--fill-color);\n",
              "      border-top-color: var(--fill-color);\n",
              "    }\n",
              "    30% {\n",
              "      border-color: transparent;\n",
              "      border-left-color: var(--fill-color);\n",
              "      border-top-color: var(--fill-color);\n",
              "      border-right-color: var(--fill-color);\n",
              "    }\n",
              "    40% {\n",
              "      border-color: transparent;\n",
              "      border-right-color: var(--fill-color);\n",
              "      border-top-color: var(--fill-color);\n",
              "    }\n",
              "    60% {\n",
              "      border-color: transparent;\n",
              "      border-right-color: var(--fill-color);\n",
              "    }\n",
              "    80% {\n",
              "      border-color: transparent;\n",
              "      border-right-color: var(--fill-color);\n",
              "      border-bottom-color: var(--fill-color);\n",
              "    }\n",
              "    90% {\n",
              "      border-color: transparent;\n",
              "      border-bottom-color: var(--fill-color);\n",
              "    }\n",
              "  }\n",
              "</style>\n",
              "\n",
              "  <script>\n",
              "    async function quickchart(key) {\n",
              "      const quickchartButtonEl =\n",
              "        document.querySelector('#' + key + ' button');\n",
              "      quickchartButtonEl.disabled = true;  // To prevent multiple clicks.\n",
              "      quickchartButtonEl.classList.add('colab-df-spinner');\n",
              "      try {\n",
              "        const charts = await google.colab.kernel.invokeFunction(\n",
              "            'suggestCharts', [key], {});\n",
              "      } catch (error) {\n",
              "        console.error('Error during call to suggestCharts:', error);\n",
              "      }\n",
              "      quickchartButtonEl.classList.remove('colab-df-spinner');\n",
              "      quickchartButtonEl.classList.add('colab-df-quickchart-complete');\n",
              "    }\n",
              "    (() => {\n",
              "      let quickchartButtonEl =\n",
              "        document.querySelector('#df-04d61e44-cfa3-4396-a762-e05539dcac9a button');\n",
              "      quickchartButtonEl.style.display =\n",
              "        google.colab.kernel.accessAllowed ? 'block' : 'none';\n",
              "    })();\n",
              "  </script>\n",
              "</div>\n",
              "\n",
              "    </div>\n",
              "  </div>\n"
            ],
            "application/vnd.google.colaboratory.intrinsic+json": {
              "type": "dataframe",
              "variable_name": "midway_lows_reversed",
              "summary": "{\n  \"name\": \"midway_lows_reversed\",\n  \"rows\": 366,\n  \"fields\": [\n    {\n      \"column\": \"date\",\n      \"properties\": {\n        \"dtype\": \"date\",\n        \"min\": \"2023-07-12 00:00:00\",\n        \"max\": \"2024-07-11 00:00:00\",\n        \"num_unique_values\": 366,\n        \"samples\": [\n          \"2023-12-31 00:00:00\",\n          \"2024-06-08 00:00:00\",\n          \"2024-06-26 00:00:00\"\n        ],\n        \"semantic_type\": \"\",\n        \"description\": \"\"\n      }\n    },\n    {\n      \"column\": \"low_temp_f\",\n      \"properties\": {\n        \"dtype\": \"number\",\n        \"std\": 16.804904555725113,\n        \"min\": -9.0,\n        \"max\": 81.0,\n        \"num_unique_values\": 77,\n        \"samples\": [\n          64.9,\n          43.0,\n          63.0\n        ],\n        \"semantic_type\": \"\",\n        \"description\": \"\"\n      }\n    },\n    {\n      \"column\": \"freezing\",\n      \"properties\": {\n        \"dtype\": \"boolean\",\n        \"num_unique_values\": 2,\n        \"samples\": [\n          true,\n          false\n        ],\n        \"semantic_type\": \"\",\n        \"description\": \"\"\n      }\n    },\n    {\n      \"column\": \"freezing_days\",\n      \"properties\": {\n        \"dtype\": \"number\",\n        \"std\": 29,\n        \"min\": 0,\n        \"max\": 67,\n        \"num_unique_values\": 68,\n        \"samples\": [\n          46,\n          16\n        ],\n        \"semantic_type\": \"\",\n        \"description\": \"\"\n      }\n    }\n  ]\n}"
            }
          },
          "metadata": {},
          "execution_count": 6
        }
      ]
    },
    {
      "cell_type": "markdown",
      "source": [
        "If we find the row where the count is $1$, that'd be the first frost date, but since we reversed the rows, it's the last frost date."
      ],
      "metadata": {
        "id": "2udoEX8Vu9YW"
      }
    },
    {
      "cell_type": "code",
      "source": [
        "offset = midway_lows_reversed[\"freezing_days\"].searchsorted(1)\n",
        "midway_lows_reversed.index[offset]"
      ],
      "metadata": {
        "colab": {
          "base_uri": "https://localhost:8080/"
        },
        "id": "YXuNpUESvGgY",
        "outputId": "bb555b50-72cf-482d-b95b-ccc653ca756e"
      },
      "execution_count": 7,
      "outputs": [
        {
          "output_type": "execute_result",
          "data": {
            "text/plain": [
              "Timestamp('2024-03-28 00:00:00')"
            ]
          },
          "metadata": {},
          "execution_count": 7
        }
      ]
    },
    {
      "cell_type": "markdown",
      "source": [
        "## Simulating frost with dice\n",
        "\n",
        "Let's roll a 6 sided dice for the weather. If it's a 1, it freezes, otherwise it's warm enough for plants to grow."
      ],
      "metadata": {
        "id": "UOGriq_EOF7V"
      }
    },
    {
      "cell_type": "code",
      "source": [
        "total_simulations = 100_000\n",
        "simulation_length = 200\n",
        "simulations = rng.integers(1, 7, size=(total_simulations, simulation_length))\n",
        "simulations"
      ],
      "metadata": {
        "id": "QwNWeubAlucK",
        "colab": {
          "base_uri": "https://localhost:8080/"
        },
        "outputId": "c230beb3-28ba-461a-c237-1e1d47edae73"
      },
      "execution_count": 8,
      "outputs": [
        {
          "output_type": "execute_result",
          "data": {
            "text/plain": [
              "array([[2, 2, 6, ..., 4, 3, 1],\n",
              "       [1, 3, 5, ..., 6, 5, 6],\n",
              "       [2, 3, 5, ..., 4, 5, 6],\n",
              "       ...,\n",
              "       [4, 1, 5, ..., 4, 4, 6],\n",
              "       [5, 4, 6, ..., 5, 5, 3],\n",
              "       [4, 3, 6, ..., 2, 6, 1]])"
            ]
          },
          "metadata": {},
          "execution_count": 8
        }
      ]
    },
    {
      "cell_type": "markdown",
      "source": [
        "To assist future analysis, `calculate_lifetimes` calculates the first frost since `starting_day` using a similar cumulative sum technique we used to calculate the last frost date for Chicago Midway."
      ],
      "metadata": {
        "id": "tZu0wEyUH3qI"
      }
    },
    {
      "cell_type": "code",
      "source": [
        "def calculate_lifetimes(values: np.array, starting_day: int = 0):\n",
        "    \"\"\"Calculate how many days there were before frost in each row.\"\"\"\n",
        "    simulation_length = values.shape[1]\n",
        "    return np.sum(\n",
        "        (\n",
        "            # Count the number of days in a row that it was not frozen.\n",
        "            np.cumsum(\n",
        "              # Was the day not frozen?\n",
        "              (values[:, starting_day:] != 1),\n",
        "              axis=1,\n",
        "            )\n",
        "            # If the count doesn't equal the column number,\n",
        "            # we know there must have been a freeze at some point,\n",
        "            # so the plants haven't survived to this day.\n",
        "            == np.arange(1, simulation_length - starting_day + 1)\n",
        "        ),\n",
        "        axis=1\n",
        "    )"
      ],
      "metadata": {
        "id": "hoDc3os3gHX3"
      },
      "execution_count": 9,
      "outputs": []
    },
    {
      "cell_type": "code",
      "source": [
        "lifetimes = calculate_lifetimes(simulations)\n",
        "lifetimes"
      ],
      "metadata": {
        "id": "ufviVrCimJjF",
        "colab": {
          "base_uri": "https://localhost:8080/"
        },
        "outputId": "0bd2e3be-50ec-4fff-d273-af6f79e5f7c2"
      },
      "execution_count": 10,
      "outputs": [
        {
          "output_type": "execute_result",
          "data": {
            "text/plain": [
              "array([ 7,  0,  4, ...,  1, 14,  7])"
            ]
          },
          "metadata": {},
          "execution_count": 10
        }
      ]
    },
    {
      "cell_type": "markdown",
      "source": [
        "This chart shows how long the plants lasted until a freeze if planted on the first day of the season. Since the chance of freeze doesn't change in this simulation, we'd see an identical chart if starting on any day of the simulation."
      ],
      "metadata": {
        "id": "GY7MLqqsINuh"
      }
    },
    {
      "cell_type": "code",
      "source": [
        "sns.histplot(lifetimes, bins=100, stat=\"density\", binrange=(0, 100))"
      ],
      "metadata": {
        "colab": {
          "base_uri": "https://localhost:8080/",
          "height": 448
        },
        "id": "nfiAkLewmeMP",
        "outputId": "cac949db-230d-47e0-d11c-d40a60d96136"
      },
      "execution_count": 11,
      "outputs": [
        {
          "output_type": "execute_result",
          "data": {
            "text/plain": [
              "<Axes: ylabel='Density'>"
            ]
          },
          "metadata": {},
          "execution_count": 11
        },
        {
          "output_type": "display_data",
          "data": {
            "text/plain": [
              "<Figure size 640x480 with 1 Axes>"
            ],
            "image/png": "[encoded data removed]"
          },
          "metadata": {}
        }
      ]
    },
    {
      "cell_type": "markdown",
      "source": [
        "On average, we'd expect freeze in every $1/6$ days. This means that the plant should live 5 days before freezing, which is what we observe here."
      ],
      "metadata": {
        "id": "cLSIsMEZIgMm"
      }
    },
    {
      "cell_type": "code",
      "source": [
        "lifetimes.mean()"
      ],
      "metadata": {
        "colab": {
          "base_uri": "https://localhost:8080/"
        },
        "id": "oHiEuF5Mm2y5",
        "outputId": "47726c22-4909-40e1-8caa-e5be5df09308"
      },
      "execution_count": 12,
      "outputs": [
        {
          "output_type": "execute_result",
          "data": {
            "text/plain": [
              "np.float64(4.98654)"
            ]
          },
          "metadata": {},
          "execution_count": 12
        }
      ]
    },
    {
      "cell_type": "markdown",
      "source": [
        "No plant made it to 100 days in our simulation."
      ],
      "metadata": {
        "id": "W2u9ivTrIuFU"
      }
    },
    {
      "cell_type": "code",
      "source": [
        "(lifetimes >= 100).sum()"
      ],
      "metadata": {
        "colab": {
          "base_uri": "https://localhost:8080/"
        },
        "id": "UAjlKNdVnEKp",
        "outputId": "edc82495-afc5-4c25-834a-f451ba09f257"
      },
      "execution_count": 13,
      "outputs": [
        {
          "output_type": "execute_result",
          "data": {
            "text/plain": [
              "np.int64(0)"
            ]
          },
          "metadata": {},
          "execution_count": 13
        }
      ]
    },
    {
      "cell_type": "markdown",
      "source": [
        "How long did the luckiest plant live?"
      ],
      "metadata": {
        "id": "uGZLYuJiIxll"
      }
    },
    {
      "cell_type": "code",
      "source": [
        "lifetimes.max()"
      ],
      "metadata": {
        "colab": {
          "base_uri": "https://localhost:8080/"
        },
        "id": "UzD5N8MunYNM",
        "outputId": "89febd2b-e4e7-48cd-d21c-a91d2c1aa2ad"
      },
      "execution_count": 14,
      "outputs": [
        {
          "output_type": "execute_result",
          "data": {
            "text/plain": [
              "np.int64(81)"
            ]
          },
          "metadata": {},
          "execution_count": 14
        }
      ]
    },
    {
      "cell_type": "markdown",
      "source": [
        "Theoretically, the chance of a particular day $n$ being the first frost date, it's $1/6$ that it freezes and $(5/6)^{n-1}$ that it doesn't freeze on all the days prior.\n",
        "\n",
        "This line should look similar to the histogram above."
      ],
      "metadata": {
        "id": "jdQ3_RBi0yIS"
      }
    },
    {
      "cell_type": "code",
      "source": [
        "eq = (1/6) * (5/6) ** (np.arange(1, 100, 0.1) - 1)\n",
        "sns.lineplot(x=np.arange(1, 100, 0.1), y=eq)"
      ],
      "metadata": {
        "colab": {
          "base_uri": "https://localhost:8080/",
          "height": 448
        },
        "id": "J04WXa4NpNAi",
        "outputId": "11d463fb-9f9e-412b-f6d2-683618718f91"
      },
      "execution_count": 15,
      "outputs": [
        {
          "output_type": "execute_result",
          "data": {
            "text/plain": [
              "<Axes: >"
            ]
          },
          "metadata": {},
          "execution_count": 15
        },
        {
          "output_type": "display_data",
          "data": {
            "text/plain": [
              "<Figure size 640x480 with 1 Axes>"
            ],
            "image/png": "[encoded data removed]"
          },
          "metadata": {}
        }
      ]
    },
    {
      "cell_type": "markdown",
      "source": [
        "## Slightly more realistic freeze probabilities\n",
        "\n",
        "We know the probability of freeze should decrease over time as spring turns to summer. What's a simple model of that we could use?\n",
        "\n",
        "Starting with the first day of spring, we have a $(1/1)$ chance of freezing. On the second day, we have a $(1/2)$ chance. On the third day, we have a $(1/3)$ chance, and so on. After 100 days, it's summer and let's assume it never freezes after that. Let's try a few different simulations."
      ],
      "metadata": {
        "id": "ciRDoQ8jH0ip"
      }
    },
    {
      "cell_type": "code",
      "source": [
        "total_simulations = 100_000\n",
        "simulation_length = 200\n",
        "summer_start = 100\n",
        "\n",
        "columns = []\n",
        "for col in range(1, simulation_length + 1):\n",
        "  if col < summer_start:\n",
        "    columns.append(\n",
        "      # Just like the previous , if we\n",
        "      # roll a 1, it freezes. But this time\n",
        "      # we roll a dice with a different number\n",
        "      # of sides per day.\n",
        "      rng.integers(1, col + 1, size=(total_simulations, 1))\n",
        "    )\n",
        "  else:\n",
        "    columns.append(\n",
        "      np.ones((total_simulations, 1)) + 1  # Never freeze.\n",
        "    )\n",
        "\n",
        "simulations = np.concatenate(columns, axis=1)"
      ],
      "metadata": {
        "id": "jZFvGHtNpWRX"
      },
      "execution_count": 16,
      "outputs": []
    },
    {
      "cell_type": "markdown",
      "source": [
        "First, if we plant on day 1, all of our crops are guaranteed to freeze. What happens if we plant on day 2?"
      ],
      "metadata": {
        "id": "73oFZo69JFQp"
      }
    },
    {
      "cell_type": "code",
      "source": [
        "# Note that Python is zero indexed,\n",
        "# so we use `starting_day=1` to calculate what happens\n",
        "# if we plant on day 2.\n",
        "starting_day = 1\n",
        "lifetimes = calculate_lifetimes(simulations, starting_day=starting_day)\n",
        "sns.histplot(lifetimes, bins=200, stat=\"density\", binrange=(0, 200))"
      ],
      "metadata": {
        "colab": {
          "base_uri": "https://localhost:8080/",
          "height": 448
        },
        "id": "iaDzALT4dWh1",
        "outputId": "e14e668e-a1de-495e-dd6b-51f335433b4e"
      },
      "execution_count": 17,
      "outputs": [
        {
          "output_type": "execute_result",
          "data": {
            "text/plain": [
              "<Axes: ylabel='Density'>"
            ]
          },
          "metadata": {},
          "execution_count": 17
        },
        {
          "output_type": "display_data",
          "data": {
            "text/plain": [
              "<Figure size 640x480 with 1 Axes>"
            ],
            "image/png": "[encoded data removed]"
          },
          "metadata": {}
        }
      ]
    },
    {
      "cell_type": "markdown",
      "source": [
        "Some lucky plants do make it the whole season in this simulation."
      ],
      "metadata": {
        "id": "iF8Wen6gJce3"
      }
    },
    {
      "cell_type": "code",
      "source": [
        "np.max(lifetimes)"
      ],
      "metadata": {
        "colab": {
          "base_uri": "https://localhost:8080/"
        },
        "id": "OS3tgViNeWpd",
        "outputId": "ac8080b2-b008-4f95-a100-e10ff9b39d3a"
      },
      "execution_count": 18,
      "outputs": [
        {
          "output_type": "execute_result",
          "data": {
            "text/plain": [
              "np.int64(199)"
            ]
          },
          "metadata": {},
          "execution_count": 18
        }
      ]
    },
    {
      "cell_type": "markdown",
      "source": [
        "But on average, they don't make it very far."
      ],
      "metadata": {
        "id": "YBVDng7eJl7N"
      }
    },
    {
      "cell_type": "code",
      "source": [
        "lifetimes.mean()"
      ],
      "metadata": {
        "colab": {
          "base_uri": "https://localhost:8080/"
        },
        "id": "zw3MgOt1edZt",
        "outputId": "43f569fe-dd7d-4045-a450-c64fcdd496fd"
      },
      "execution_count": 19,
      "outputs": [
        {
          "output_type": "execute_result",
          "data": {
            "text/plain": [
              "np.float64(5.15624)"
            ]
          },
          "metadata": {},
          "execution_count": 19
        }
      ]
    },
    {
      "cell_type": "markdown",
      "source": [
        "We ran a bunch of simulations. When was the last freeze date in each? How often was each day the last freeze date in this simulation?"
      ],
      "metadata": {
        "id": "LHVTwzkt1xkF"
      }
    },
    {
      "cell_type": "code",
      "source": [
        "# On which days did it freeze?\n",
        "frozen = simulations == 1\n",
        "\n",
        "# We reverse because it's a bit\n",
        "# easier to calculate the first\n",
        "# freeze with cumsum.\n",
        "frozen_reversed = frozen[:,::-1]\n",
        "\n",
        "# How many days have frozen so far in the season?\n",
        "frozen_days = np.cumsum(frozen_reversed, axis=1)\n",
        "\n",
        "# Because we're going in reverse,\n",
        "# the days after the last frost will\n",
        "# have a count of 0.\n",
        "up_to_last_frost = frozen_days > 0\n",
        "days_up_to_last_frost = np.sum(up_to_last_frost, axis=1)\n",
        "sns.histplot(\n",
        "    days_up_to_last_frost,\n",
        "    bins=101, stat=\"density\", binrange=(0, 101),\n",
        ")"
      ],
      "metadata": {
        "colab": {
          "base_uri": "https://localhost:8080/",
          "height": 448
        },
        "id": "jhET7m2lkEVH",
        "outputId": "5affdec2-ad36-48a7-ca52-88b32af38424"
      },
      "execution_count": 20,
      "outputs": [
        {
          "output_type": "execute_result",
          "data": {
            "text/plain": [
              "<Axes: ylabel='Density'>"
            ]
          },
          "metadata": {},
          "execution_count": 20
        },
        {
          "output_type": "display_data",
          "data": {
            "text/plain": [
              "<Figure size 640x480 with 1 Axes>"
            ],
            "image/png": "[encoded data removed]"
          },
          "metadata": {}
        }
      ]
    },
    {
      "cell_type": "code",
      "source": [
        "days_up_to_last_frost.mean()"
      ],
      "metadata": {
        "colab": {
          "base_uri": "https://localhost:8080/"
        },
        "id": "MmOTUV9hKFdw",
        "outputId": "0f0a3d44-4a97-4e2b-80ca-849511b683db"
      },
      "execution_count": 21,
      "outputs": [
        {
          "output_type": "execute_result",
          "data": {
            "text/plain": [
              "np.float64(50.03884)"
            ]
          },
          "metadata": {},
          "execution_count": 21
        }
      ]
    },
    {
      "cell_type": "markdown",
      "source": [
        "We accidentally made every day of the season equally likely to be the last frost date! Why is this?\n",
        "\n",
        "- The chance of freezing on any particular day is $1/n$ with $n \\in [1, 100]$.\n",
        "\n",
        "- The chance of _not_ freezing is $1 - 1/n$, which is $n/n - 1/n$, which is also $(n - 1) / n$.\n",
        "\n",
        "This means the chance of being the last frost date is\n",
        "\n",
        "$(1/n) \\prod_{i=n+1}^{100} (i - 1) / i$.\n",
        "\n",
        "When we expand the product, we see that most terms cancel out.\n",
        "\n",
        "$\\frac{1}{n} \\frac{n + 1 - 1}{n + 1} \\frac{n + 2 - 1}{n + 2} ... \\frac{99 - 1}{99} \\frac{100 - 1}{100}$\n",
        "\n",
        "$\\frac{1}{n} \\frac{n}{n + 1} \\frac{n + 1}{n + 2} ... \\frac{98}{99} \\frac{99}{100}$\n",
        "\n",
        "$ \\require{cancel} \\frac{1}{\\cancel{n}} \\frac{\\cancel{n}}{\\cancel{n + 1}} \\frac{\\cancel{n + 1}}{\\cancel{n + 2}} ... \\frac{\\cancel{98}}{\\cancel{99}} \\frac{\\cancel{99}}{100} = \\frac{1}{100}.$"
      ],
      "metadata": {
        "id": "K7gb6-sZ2IY5"
      }
    },
    {
      "cell_type": "markdown",
      "source": [
        "## Chicago-inspired freeze probabilities: simulating closer to real life\n",
        "\n",
        "Looking at the [Chicago freeze probabilities](https://www.overcastdata.com/en/loc/chicago-il-usa/#frost), the freeze probability starts at around 90 and decreases to basically 0 over around 90 days.\n",
        "\n",
        "![chicago-freeze-probabilities.png](data:image/png;base64,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)"
      ],
      "metadata": {
        "id": "NeVNhmiQNj-w"
      }
    },
    {
      "cell_type": "markdown",
      "source": [
        "To keep the math perhaps a bit easier to follow, let's try going from 100 to 0 in 100 days."
      ],
      "metadata": {
        "id": "YR8Nje8Rpz_L"
      }
    },
    {
      "cell_type": "code",
      "source": [
        "# Try some simulations with probabilities closer to what's observed in Chicago.\n",
        "total_simulations = 100_000\n",
        "simulation_length = 200\n",
        "summer_start = 100\n",
        "\n",
        "# Go from 99/100 to 0/100 in 100 steps.\n",
        "# That should be a 1/100 change in probability each step.\n",
        "probabilities = np.linspace(0.99, 0, num=summer_start, endpoint=True)\n",
        "\n",
        "days = []\n",
        "\n",
        "# Simulate it one day at a time to make the comparisons a bit easier.\n",
        "# We calculate the same day of the season over all 100,000 simulations\n",
        "# at the same time to save time.\n",
        "for day in range(1, simulation_length + 1):\n",
        "  if day < summer_start:\n",
        "    days.append(\n",
        "      np.where(\n",
        "          (\n",
        "            # Pick a random floating point number between 0 and 1.\n",
        "            # If this number is less than the probability of a freeze,\n",
        "            # then we have a freeze, otherwise not.\n",
        "            rng.uniform(\n",
        "                0,\n",
        "                1,\n",
        "                size=(total_simulations, 1),\n",
        "            ) < probabilities[day - 1]\n",
        "          ),\n",
        "          1,\n",
        "          2,\n",
        "      )\n",
        "    )\n",
        "  else:\n",
        "    days.append(\n",
        "      # Never freeze after the probability reaches 0.\n",
        "      np.ones((total_simulations, 1)) + 1\n",
        "    )\n",
        "\n",
        "simulations = np.concatenate(days, axis=1)"
      ],
      "metadata": {
        "id": "8B-SiNmSqIX_"
      },
      "execution_count": 36,
      "outputs": []
    },
    {
      "cell_type": "markdown",
      "source": [
        "How long would corn planted on day 50 live?"
      ],
      "metadata": {
        "id": "hCfmc8gO9EFA"
      }
    },
    {
      "cell_type": "code",
      "source": [
        "starting_day = 49  # Day 50 since the array is 0-indexed.\n",
        "lifetimes = calculate_lifetimes(simulations, starting_day=starting_day)\n",
        "sns.histplot(lifetimes, bins=25, stat=\"density\", binrange=(0, 25))"
      ],
      "metadata": {
        "colab": {
          "base_uri": "https://localhost:8080/",
          "height": 448
        },
        "id": "SdonAomcJMR9",
        "outputId": "57b3137b-4975-4004-cec5-90b29ee06140"
      },
      "execution_count": 37,
      "outputs": [
        {
          "output_type": "execute_result",
          "data": {
            "text/plain": [
              "<Axes: ylabel='Density'>"
            ]
          },
          "metadata": {},
          "execution_count": 37
        },
        {
          "output_type": "display_data",
          "data": {
            "text/plain": [
              "<Figure size 640x480 with 1 Axes>"
            ],
            "image/png": "[encoded data removed]"
          },
          "metadata": {}
        }
      ]
    },
    {
      "cell_type": "code",
      "source": [
        "lifetimes.max()"
      ],
      "metadata": {
        "colab": {
          "base_uri": "https://localhost:8080/"
        },
        "id": "-gQErcFaJgDQ",
        "outputId": "1237a29d-8973-4cb1-a92d-82f83dedce4b"
      },
      "execution_count": 38,
      "outputs": [
        {
          "output_type": "execute_result",
          "data": {
            "text/plain": [
              "np.int64(25)"
            ]
          },
          "metadata": {},
          "execution_count": 38
        }
      ]
    },
    {
      "cell_type": "markdown",
      "source": [
        "Just like with the real life data from Chicago Midway, we can calculate the last freeze date on these simulated seasons. The only difference here is that we're checking to see if we rolled a \"1\" instead of if the temperature is below 32 ºF."
      ],
      "metadata": {
        "id": "wwPyd7jH-Wnm"
      }
    },
    {
      "cell_type": "code",
      "source": [
        "frozen = simulations == 1\n",
        "frozen_reversed = frozen[:,::-1]\n",
        "frozen_days = np.cumsum(frozen_reversed, axis=1)\n",
        "before_last_frost = frozen_days > 0\n",
        "days_before_last_frost = np.sum(before_last_frost, axis=1)\n",
        "sns.histplot(days_before_last_frost, bins=60, stat=\"density\", binrange=(60, 121))"
      ],
      "metadata": {
        "colab": {
          "base_uri": "https://localhost:8080/",
          "height": 448
        },
        "id": "AUsTNH2iFEaT",
        "outputId": "9cb4d081-ccd7-416c-f7ea-cff725db7d80"
      },
      "execution_count": 39,
      "outputs": [
        {
          "output_type": "execute_result",
          "data": {
            "text/plain": [
              "<Axes: ylabel='Density'>"
            ]
          },
          "metadata": {},
          "execution_count": 39
        },
        {
          "output_type": "display_data",
          "data": {
            "text/plain": [
              "<Figure size 640x480 with 1 Axes>"
            ],
            "image/png": "[encoded data removed]"
          },
          "metadata": {}
        }
      ]
    },
    {
      "cell_type": "code",
      "source": [
        "np.median(days_before_last_frost)"
      ],
      "metadata": {
        "colab": {
          "base_uri": "https://localhost:8080/"
        },
        "id": "avB2SvVXFYMg",
        "outputId": "d214d594-d2ab-4521-85e8-5976bd59a63f"
      },
      "execution_count": 40,
      "outputs": [
        {
          "output_type": "execute_result",
          "data": {
            "text/plain": [
              "np.float64(88.0)"
            ]
          },
          "metadata": {},
          "execution_count": 40
        }
      ]
    },
    {
      "cell_type": "markdown",
      "source": [
        " The chance of a particular day $i$ being the last frost date is the chance it freezes on that day and the all of the days following do not freeze: $p_i (1 - p_{i + 1}) (1 - p_{i + 2}) ... (1 - p_{200})$.\n",
        "\n",
        " Avoid the multiplication of very small numbers by using the fact that $a b = e^{\\log{ab}} = e^{\\log(a) + \\log(b)}$.\n",
        "\n",
        " The shape of this line should look very similar to the histogram of last freeze dates."
      ],
      "metadata": {
        "id": "JkM3tk8EZJQZ"
      }
    },
    {
      "cell_type": "code",
      "source": [
        "reversed_probabilities = probabilities[::-1]\n",
        "\n",
        "last_frost_date_probability = np.exp(\n",
        "    np.cumsum(\n",
        "        np.log(1.0 - reversed_probabilities[:-1])\n",
        "    )\n",
        "    + np.log(reversed_probabilities[1:])\n",
        ")[::-1]\n",
        "sns.lineplot(last_frost_date_probability, label=\"Last frost date probability\")"
      ],
      "metadata": {
        "colab": {
          "base_uri": "https://localhost:8080/",
          "height": 448
        },
        "id": "Rl2-UcYJVdJR",
        "outputId": "0ea98848-100f-4b32-f791-3ea583bd4d54"
      },
      "execution_count": 41,
      "outputs": [
        {
          "output_type": "execute_result",
          "data": {
            "text/plain": [
              "<Axes: >"
            ]
          },
          "metadata": {},
          "execution_count": 41
        },
        {
          "output_type": "display_data",
          "data": {
            "text/plain": [
              "<Figure size 640x480 with 1 Axes>"
            ],
            "image/png": "[encoded data removed]"
          },
          "metadata": {}
        }
      ]
    },
    {
      "cell_type": "markdown",
      "source": [
        "Let's check that we calculated the probabilities correctly. If all went well, they should sum to 1.0."
      ],
      "metadata": {
        "id": "e3cxyXFrbm-E"
      }
    },
    {
      "cell_type": "code",
      "source": [
        "np.sum(last_frost_date_probability)"
      ],
      "metadata": {
        "colab": {
          "base_uri": "https://localhost:8080/"
        },
        "id": "i1NOKJfNYSPB",
        "outputId": "73dc104a-1cf6-4687-936e-9181fe355b68"
      },
      "execution_count": 42,
      "outputs": [
        {
          "output_type": "execute_result",
          "data": {
            "text/plain": [
              "np.float64(1.0)"
            ]
          },
          "metadata": {},
          "execution_count": 42
        }
      ]
    },
    {
      "cell_type": "markdown",
      "source": [
        "To determine the probabilities of different last freeze dates, it's useful to take the cumulative sum. This tells us the probability of a last freeze date being at a particular date or before."
      ],
      "metadata": {
        "id": "TcZ4q26g_VpO"
      }
    },
    {
      "cell_type": "code",
      "source": [
        "cdf = np.cumsum(last_frost_date_probability)\n",
        "sns.lineplot(cdf, label=\"Cumulative last frost date probability\")"
      ],
      "metadata": {
        "colab": {
          "base_uri": "https://localhost:8080/",
          "height": 448
        },
        "id": "HDm3cT_Iak2j",
        "outputId": "4f4ad5f0-8c4d-4a43-bf66-1c04b0b3b2f3"
      },
      "execution_count": 43,
      "outputs": [
        {
          "output_type": "execute_result",
          "data": {
            "text/plain": [
              "<Axes: >"
            ]
          },
          "metadata": {},
          "execution_count": 43
        },
        {
          "output_type": "display_data",
          "data": {
            "text/plain": [
              "<Figure size 640x480 with 1 Axes>"
            ],
            "image/png": "[encoded data removed]"
          },
          "metadata": {}
        }
      ]
    },
    {
      "cell_type": "markdown",
      "source": [
        "If we look for 0.5, that should give us the expected average last freeze date. The array is zero indexed, but we want which day of the season, which starts at day 1."
      ],
      "metadata": {
        "id": "RSIaONBu_yfa"
      }
    },
    {
      "cell_type": "code",
      "source": [
        "np.searchsorted(cdf, 0.5) + 1"
      ],
      "metadata": {
        "colab": {
          "base_uri": "https://localhost:8080/"
        },
        "id": "t0dOF3D9aqxD",
        "outputId": "ff51747e-21fa-4f25-ed81-2f573d8cf9bf"
      },
      "execution_count": 44,
      "outputs": [
        {
          "output_type": "execute_result",
          "data": {
            "text/plain": [
              "np.int64(88)"
            ]
          },
          "metadata": {},
          "execution_count": 44
        }
      ]
    },
    {
      "cell_type": "markdown",
      "source": [
        "Likewise, looking for 0.95 should give us only a 1/20 chance that corn planted on this date would encounter a freeze afterwards."
      ],
      "metadata": {
        "id": "KhXLNQQ9AjGl"
      }
    },
    {
      "cell_type": "code",
      "source": [
        "np.searchsorted(cdf, 0.95) + 1"
      ],
      "metadata": {
        "colab": {
          "base_uri": "https://localhost:8080/"
        },
        "id": "ju1Lkg78a0bi",
        "outputId": "4f89eab6-fb29-4dee-962b-93ff0be2f95d"
      },
      "execution_count": 45,
      "outputs": [
        {
          "output_type": "execute_result",
          "data": {
            "text/plain": [
              "np.int64(97)"
            ]
          },
          "metadata": {},
          "execution_count": 45
        }
      ]
    },
    {
      "cell_type": "code",
      "source": [],
      "metadata": {
        "id": "eQzMYY1Nr1WU"
      },
      "execution_count": 45,
      "outputs": []
    }
  ]
}